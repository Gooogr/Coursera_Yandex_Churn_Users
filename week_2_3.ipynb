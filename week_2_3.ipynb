{
 "cells": [
  {
   "cell_type": "code",
   "execution_count": 64,
   "metadata": {
    "ExecuteTime": {
     "end_time": "2019-11-15T13:35:07.905792Z",
     "start_time": "2019-11-15T13:35:07.707800Z"
    }
   },
   "outputs": [],
   "source": [
    "import pandas as pd\n",
    "pd.set_option('display.max_columns', 250)\n",
    "\n",
    "import numpy as np\n",
    "\n",
    "from scipy.sparse import coo_matrix, csr_matrix, hstack\n",
    "\n",
    "import seaborn as sns\n",
    "import matplotlib.pyplot as plt\n",
    "\n",
    "#imputers\n",
    "from impyute.imputation.cs import mice, fast_knn \n",
    "from sklearn.impute import SimpleImputer \n",
    "\n",
    "#encoders\n",
    "import category_encoders as ce\n",
    "\n",
    "from sklearn.base import TransformerMixin\n",
    "from sklearn.model_selection import train_test_split, StratifiedKFold, KFold\n",
    "from sklearn.linear_model import LogisticRegression\n",
    "from sklearn.svm import LinearSVC\n",
    "from sklearn import metrics\n",
    "from sklearn.preprocessing import StandardScaler\n",
    "from sklearn.ensemble import RandomForestClassifier\n",
    "\n",
    "from catboost import CatBoostClassifier\n",
    "\n",
    "\n",
    "import itertools\n",
    "import pickle\n",
    "\n"
   ]
  },
  {
   "cell_type": "code",
   "execution_count": 2,
   "metadata": {
    "ExecuteTime": {
     "end_time": "2019-11-14T09:49:47.734409Z",
     "start_time": "2019-11-14T09:49:47.732407Z"
    }
   },
   "outputs": [],
   "source": [
    "#################ДОБАВИТЬ STANDARD SCALER!!!!#################################"
   ]
  },
  {
   "cell_type": "code",
   "execution_count": 3,
   "metadata": {
    "ExecuteTime": {
     "end_time": "2019-11-14T09:49:48.045759Z",
     "start_time": "2019-11-14T09:49:48.039858Z"
    }
   },
   "outputs": [],
   "source": [
    "SEED = 42"
   ]
  },
  {
   "cell_type": "code",
   "execution_count": 4,
   "metadata": {
    "ExecuteTime": {
     "end_time": "2019-11-14T09:49:48.462462Z",
     "start_time": "2019-11-14T09:49:48.447483Z"
    }
   },
   "outputs": [],
   "source": [
    "# https://stackoverflow.com/questions/25239958/impute-categorical-missing-values-in-scikit-learn\n",
    "class DataFrameImputer(TransformerMixin):\n",
    "\n",
    "    def __init__(self):\n",
    "        \"\"\"Impute missing values.\n",
    "\n",
    "        Columns of dtype object are imputed with the most frequent value \n",
    "        in column.\n",
    "\n",
    "        Columns of other types are imputed with mean of column.\n",
    "\n",
    "        \"\"\"\n",
    "    def fit(self, X, y=None):\n",
    "\n",
    "        self.fill = pd.Series([X[c].value_counts().index[0]\n",
    "            if X[c].dtype == np.dtype('O') else X[c].mean() for c in X],\n",
    "            index=X.columns)\n",
    "\n",
    "        return self\n",
    "\n",
    "    def transform(self, X, y=None):\n",
    "        return X.fillna(self.fill)"
   ]
  },
  {
   "cell_type": "markdown",
   "metadata": {},
   "source": [
    "## Загрузка данных"
   ]
  },
  {
   "cell_type": "code",
   "execution_count": 5,
   "metadata": {
    "ExecuteTime": {
     "end_time": "2019-11-14T09:49:50.043305Z",
     "start_time": "2019-11-14T09:49:49.421873Z"
    }
   },
   "outputs": [],
   "source": [
    "churn_data = pd.read_csv('./Data/orange_small_churn_data.txt')\n",
    "# churn_data.head()"
   ]
  },
  {
   "cell_type": "code",
   "execution_count": 6,
   "metadata": {
    "ExecuteTime": {
     "end_time": "2019-11-14T09:49:50.184694Z",
     "start_time": "2019-11-14T09:49:50.044499Z"
    }
   },
   "outputs": [],
   "source": [
    "churn_labels = np.loadtxt('./Data/orange_small_churn_labels.txt').astype('int')\n",
    "churn_labels = np.reshape(churn_labels, (40000, 1))\n",
    "churn_data['label'] = churn_labels > 0 #convert (-1, 1) to (True, False)"
   ]
  },
  {
   "cell_type": "code",
   "execution_count": 7,
   "metadata": {
    "ExecuteTime": {
     "end_time": "2019-11-14T09:49:52.002470Z",
     "start_time": "2019-11-14T09:49:51.832170Z"
    }
   },
   "outputs": [
    {
     "data": {
      "text/html": [
       "<div>\n",
       "<style scoped>\n",
       "    .dataframe tbody tr th:only-of-type {\n",
       "        vertical-align: middle;\n",
       "    }\n",
       "\n",
       "    .dataframe tbody tr th {\n",
       "        vertical-align: top;\n",
       "    }\n",
       "\n",
       "    .dataframe thead th {\n",
       "        text-align: right;\n",
       "    }\n",
       "</style>\n",
       "<table border=\"1\" class=\"dataframe\">\n",
       "  <thead>\n",
       "    <tr style=\"text-align: right;\">\n",
       "      <th></th>\n",
       "      <th>Var1</th>\n",
       "      <th>Var2</th>\n",
       "      <th>Var3</th>\n",
       "      <th>Var4</th>\n",
       "      <th>Var5</th>\n",
       "      <th>Var6</th>\n",
       "      <th>Var7</th>\n",
       "      <th>Var8</th>\n",
       "      <th>Var9</th>\n",
       "      <th>Var10</th>\n",
       "      <th>Var11</th>\n",
       "      <th>Var12</th>\n",
       "      <th>Var13</th>\n",
       "      <th>Var14</th>\n",
       "      <th>Var15</th>\n",
       "      <th>Var16</th>\n",
       "      <th>Var17</th>\n",
       "      <th>Var18</th>\n",
       "      <th>Var19</th>\n",
       "      <th>Var20</th>\n",
       "      <th>Var21</th>\n",
       "      <th>Var22</th>\n",
       "      <th>Var23</th>\n",
       "      <th>Var24</th>\n",
       "      <th>Var25</th>\n",
       "      <th>Var26</th>\n",
       "      <th>Var27</th>\n",
       "      <th>Var28</th>\n",
       "      <th>Var29</th>\n",
       "      <th>Var30</th>\n",
       "      <th>Var31</th>\n",
       "      <th>Var32</th>\n",
       "      <th>Var33</th>\n",
       "      <th>Var34</th>\n",
       "      <th>Var35</th>\n",
       "      <th>Var36</th>\n",
       "      <th>Var37</th>\n",
       "      <th>Var38</th>\n",
       "      <th>Var39</th>\n",
       "      <th>Var40</th>\n",
       "      <th>Var41</th>\n",
       "      <th>Var42</th>\n",
       "      <th>Var43</th>\n",
       "      <th>Var44</th>\n",
       "      <th>Var45</th>\n",
       "      <th>Var46</th>\n",
       "      <th>Var47</th>\n",
       "      <th>Var48</th>\n",
       "      <th>Var49</th>\n",
       "      <th>Var50</th>\n",
       "      <th>Var51</th>\n",
       "      <th>Var52</th>\n",
       "      <th>Var53</th>\n",
       "      <th>Var54</th>\n",
       "      <th>Var55</th>\n",
       "      <th>Var56</th>\n",
       "      <th>Var57</th>\n",
       "      <th>Var58</th>\n",
       "      <th>Var59</th>\n",
       "      <th>Var60</th>\n",
       "      <th>Var61</th>\n",
       "      <th>Var62</th>\n",
       "      <th>Var63</th>\n",
       "      <th>Var64</th>\n",
       "      <th>Var65</th>\n",
       "      <th>Var66</th>\n",
       "      <th>Var67</th>\n",
       "      <th>Var68</th>\n",
       "      <th>Var69</th>\n",
       "      <th>Var70</th>\n",
       "      <th>Var71</th>\n",
       "      <th>Var72</th>\n",
       "      <th>Var73</th>\n",
       "      <th>Var74</th>\n",
       "      <th>Var75</th>\n",
       "      <th>Var76</th>\n",
       "      <th>Var77</th>\n",
       "      <th>Var78</th>\n",
       "      <th>Var79</th>\n",
       "      <th>Var80</th>\n",
       "      <th>Var81</th>\n",
       "      <th>Var82</th>\n",
       "      <th>Var83</th>\n",
       "      <th>Var84</th>\n",
       "      <th>Var85</th>\n",
       "      <th>Var86</th>\n",
       "      <th>Var87</th>\n",
       "      <th>Var88</th>\n",
       "      <th>Var89</th>\n",
       "      <th>Var90</th>\n",
       "      <th>Var91</th>\n",
       "      <th>Var92</th>\n",
       "      <th>Var93</th>\n",
       "      <th>Var94</th>\n",
       "      <th>Var95</th>\n",
       "      <th>Var96</th>\n",
       "      <th>Var97</th>\n",
       "      <th>Var98</th>\n",
       "      <th>Var99</th>\n",
       "      <th>Var100</th>\n",
       "      <th>Var101</th>\n",
       "      <th>Var102</th>\n",
       "      <th>Var103</th>\n",
       "      <th>Var104</th>\n",
       "      <th>Var105</th>\n",
       "      <th>Var106</th>\n",
       "      <th>Var107</th>\n",
       "      <th>Var108</th>\n",
       "      <th>Var109</th>\n",
       "      <th>Var110</th>\n",
       "      <th>Var111</th>\n",
       "      <th>Var112</th>\n",
       "      <th>Var113</th>\n",
       "      <th>Var114</th>\n",
       "      <th>Var115</th>\n",
       "      <th>Var116</th>\n",
       "      <th>Var117</th>\n",
       "      <th>Var118</th>\n",
       "      <th>Var119</th>\n",
       "      <th>Var120</th>\n",
       "      <th>Var121</th>\n",
       "      <th>Var122</th>\n",
       "      <th>Var123</th>\n",
       "      <th>Var124</th>\n",
       "      <th>Var125</th>\n",
       "      <th>Var126</th>\n",
       "      <th>Var127</th>\n",
       "      <th>Var128</th>\n",
       "      <th>Var129</th>\n",
       "      <th>Var130</th>\n",
       "      <th>Var131</th>\n",
       "      <th>Var132</th>\n",
       "      <th>Var133</th>\n",
       "      <th>Var134</th>\n",
       "      <th>Var135</th>\n",
       "      <th>Var136</th>\n",
       "      <th>Var137</th>\n",
       "      <th>Var138</th>\n",
       "      <th>Var139</th>\n",
       "      <th>Var140</th>\n",
       "      <th>Var141</th>\n",
       "      <th>Var142</th>\n",
       "      <th>Var143</th>\n",
       "      <th>Var144</th>\n",
       "      <th>Var145</th>\n",
       "      <th>Var146</th>\n",
       "      <th>Var147</th>\n",
       "      <th>Var148</th>\n",
       "      <th>Var149</th>\n",
       "      <th>Var150</th>\n",
       "      <th>Var151</th>\n",
       "      <th>Var152</th>\n",
       "      <th>Var153</th>\n",
       "      <th>Var154</th>\n",
       "      <th>Var155</th>\n",
       "      <th>Var156</th>\n",
       "      <th>Var157</th>\n",
       "      <th>Var158</th>\n",
       "      <th>Var159</th>\n",
       "      <th>Var160</th>\n",
       "      <th>Var161</th>\n",
       "      <th>Var162</th>\n",
       "      <th>Var163</th>\n",
       "      <th>Var164</th>\n",
       "      <th>Var165</th>\n",
       "      <th>Var166</th>\n",
       "      <th>Var167</th>\n",
       "      <th>Var168</th>\n",
       "      <th>Var169</th>\n",
       "      <th>Var170</th>\n",
       "      <th>Var171</th>\n",
       "      <th>Var172</th>\n",
       "      <th>Var173</th>\n",
       "      <th>Var174</th>\n",
       "      <th>Var175</th>\n",
       "      <th>Var176</th>\n",
       "      <th>Var177</th>\n",
       "      <th>Var178</th>\n",
       "      <th>Var179</th>\n",
       "      <th>Var180</th>\n",
       "      <th>Var181</th>\n",
       "      <th>Var182</th>\n",
       "      <th>Var183</th>\n",
       "      <th>Var184</th>\n",
       "      <th>Var185</th>\n",
       "      <th>Var186</th>\n",
       "      <th>Var187</th>\n",
       "      <th>Var188</th>\n",
       "      <th>Var189</th>\n",
       "      <th>Var190</th>\n",
       "      <th>Var191</th>\n",
       "      <th>Var192</th>\n",
       "      <th>Var193</th>\n",
       "      <th>Var194</th>\n",
       "      <th>Var195</th>\n",
       "      <th>Var196</th>\n",
       "      <th>Var197</th>\n",
       "      <th>Var198</th>\n",
       "      <th>Var199</th>\n",
       "      <th>Var200</th>\n",
       "      <th>Var201</th>\n",
       "      <th>Var202</th>\n",
       "      <th>Var203</th>\n",
       "      <th>Var204</th>\n",
       "      <th>Var205</th>\n",
       "      <th>Var206</th>\n",
       "      <th>Var207</th>\n",
       "      <th>Var208</th>\n",
       "      <th>Var209</th>\n",
       "      <th>Var210</th>\n",
       "      <th>Var211</th>\n",
       "      <th>Var212</th>\n",
       "      <th>Var213</th>\n",
       "      <th>Var214</th>\n",
       "      <th>Var215</th>\n",
       "      <th>Var216</th>\n",
       "      <th>Var217</th>\n",
       "      <th>Var218</th>\n",
       "      <th>Var219</th>\n",
       "      <th>Var220</th>\n",
       "      <th>Var221</th>\n",
       "      <th>Var222</th>\n",
       "      <th>Var223</th>\n",
       "      <th>Var224</th>\n",
       "      <th>Var225</th>\n",
       "      <th>Var226</th>\n",
       "      <th>Var227</th>\n",
       "      <th>Var228</th>\n",
       "      <th>Var229</th>\n",
       "      <th>Var230</th>\n",
       "      <th>label</th>\n",
       "    </tr>\n",
       "  </thead>\n",
       "  <tbody>\n",
       "    <tr>\n",
       "      <th>0</th>\n",
       "      <td>NaN</td>\n",
       "      <td>NaN</td>\n",
       "      <td>NaN</td>\n",
       "      <td>NaN</td>\n",
       "      <td>NaN</td>\n",
       "      <td>3052.0</td>\n",
       "      <td>NaN</td>\n",
       "      <td>NaN</td>\n",
       "      <td>NaN</td>\n",
       "      <td>NaN</td>\n",
       "      <td>NaN</td>\n",
       "      <td>NaN</td>\n",
       "      <td>NaN</td>\n",
       "      <td>NaN</td>\n",
       "      <td>NaN</td>\n",
       "      <td>NaN</td>\n",
       "      <td>NaN</td>\n",
       "      <td>NaN</td>\n",
       "      <td>NaN</td>\n",
       "      <td>NaN</td>\n",
       "      <td>480.0</td>\n",
       "      <td>600.0</td>\n",
       "      <td>NaN</td>\n",
       "      <td>20.0</td>\n",
       "      <td>480.0</td>\n",
       "      <td>NaN</td>\n",
       "      <td>NaN</td>\n",
       "      <td>200.00</td>\n",
       "      <td>NaN</td>\n",
       "      <td>NaN</td>\n",
       "      <td>NaN</td>\n",
       "      <td>NaN</td>\n",
       "      <td>NaN</td>\n",
       "      <td>NaN</td>\n",
       "      <td>0.0</td>\n",
       "      <td>NaN</td>\n",
       "      <td>NaN</td>\n",
       "      <td>82752.0</td>\n",
       "      <td>NaN</td>\n",
       "      <td>NaN</td>\n",
       "      <td>NaN</td>\n",
       "      <td>NaN</td>\n",
       "      <td>NaN</td>\n",
       "      <td>0.0</td>\n",
       "      <td>NaN</td>\n",
       "      <td>NaN</td>\n",
       "      <td>NaN</td>\n",
       "      <td>NaN</td>\n",
       "      <td>NaN</td>\n",
       "      <td>NaN</td>\n",
       "      <td>NaN</td>\n",
       "      <td>NaN</td>\n",
       "      <td>NaN</td>\n",
       "      <td>NaN</td>\n",
       "      <td>NaN</td>\n",
       "      <td>NaN</td>\n",
       "      <td>2.907926</td>\n",
       "      <td>NaN</td>\n",
       "      <td>NaN</td>\n",
       "      <td>NaN</td>\n",
       "      <td>NaN</td>\n",
       "      <td>NaN</td>\n",
       "      <td>NaN</td>\n",
       "      <td>NaN</td>\n",
       "      <td>NaN</td>\n",
       "      <td>NaN</td>\n",
       "      <td>NaN</td>\n",
       "      <td>NaN</td>\n",
       "      <td>NaN</td>\n",
       "      <td>NaN</td>\n",
       "      <td>NaN</td>\n",
       "      <td>NaN</td>\n",
       "      <td>34</td>\n",
       "      <td>NaN</td>\n",
       "      <td>NaN</td>\n",
       "      <td>716008.0</td>\n",
       "      <td>NaN</td>\n",
       "      <td>0.0</td>\n",
       "      <td>NaN</td>\n",
       "      <td>NaN</td>\n",
       "      <td>14599.92</td>\n",
       "      <td>NaN</td>\n",
       "      <td>5.0</td>\n",
       "      <td>NaN</td>\n",
       "      <td>32.0</td>\n",
       "      <td>NaN</td>\n",
       "      <td>NaN</td>\n",
       "      <td>NaN</td>\n",
       "      <td>NaN</td>\n",
       "      <td>NaN</td>\n",
       "      <td>NaN</td>\n",
       "      <td>NaN</td>\n",
       "      <td>NaN</td>\n",
       "      <td>NaN</td>\n",
       "      <td>NaN</td>\n",
       "      <td>NaN</td>\n",
       "      <td>NaN</td>\n",
       "      <td>NaN</td>\n",
       "      <td>NaN</td>\n",
       "      <td>NaN</td>\n",
       "      <td>NaN</td>\n",
       "      <td>NaN</td>\n",
       "      <td>NaN</td>\n",
       "      <td>NaN</td>\n",
       "      <td>NaN</td>\n",
       "      <td>NaN</td>\n",
       "      <td>NaN</td>\n",
       "      <td>NaN</td>\n",
       "      <td>144.0</td>\n",
       "      <td>NaN</td>\n",
       "      <td>NaN</td>\n",
       "      <td>144.0</td>\n",
       "      <td>-1209960.0</td>\n",
       "      <td>NaN</td>\n",
       "      <td>NaN</td>\n",
       "      <td>NaN</td>\n",
       "      <td>NaN</td>\n",
       "      <td>NaN</td>\n",
       "      <td>1660.0</td>\n",
       "      <td>NaN</td>\n",
       "      <td>NaN</td>\n",
       "      <td>NaN</td>\n",
       "      <td>66.0</td>\n",
       "      <td>NaN</td>\n",
       "      <td>NaN</td>\n",
       "      <td>4.0</td>\n",
       "      <td>NaN</td>\n",
       "      <td>NaN</td>\n",
       "      <td>NaN</td>\n",
       "      <td>NaN</td>\n",
       "      <td>NaN</td>\n",
       "      <td>0.0</td>\n",
       "      <td>326915.0</td>\n",
       "      <td>604276.0</td>\n",
       "      <td>NaN</td>\n",
       "      <td>NaN</td>\n",
       "      <td>NaN</td>\n",
       "      <td>NaN</td>\n",
       "      <td>NaN</td>\n",
       "      <td>NaN</td>\n",
       "      <td>NaN</td>\n",
       "      <td>NaN</td>\n",
       "      <td>0.0</td>\n",
       "      <td>9.0</td>\n",
       "      <td>NaN</td>\n",
       "      <td>NaN</td>\n",
       "      <td>NaN</td>\n",
       "      <td>NaN</td>\n",
       "      <td>389396.0</td>\n",
       "      <td>NaN</td>\n",
       "      <td>NaN</td>\n",
       "      <td>NaN</td>\n",
       "      <td>2313888.0</td>\n",
       "      <td>NaN</td>\n",
       "      <td>NaN</td>\n",
       "      <td>NaN</td>\n",
       "      <td>NaN</td>\n",
       "      <td>NaN</td>\n",
       "      <td>NaN</td>\n",
       "      <td>28.0</td>\n",
       "      <td>NaN</td>\n",
       "      <td>NaN</td>\n",
       "      <td>599532.0</td>\n",
       "      <td>NaN</td>\n",
       "      <td>NaN</td>\n",
       "      <td>NaN</td>\n",
       "      <td>NaN</td>\n",
       "      <td>NaN</td>\n",
       "      <td>NaN</td>\n",
       "      <td>NaN</td>\n",
       "      <td>NaN</td>\n",
       "      <td>NaN</td>\n",
       "      <td>0.0</td>\n",
       "      <td>NaN</td>\n",
       "      <td>NaN</td>\n",
       "      <td>NaN</td>\n",
       "      <td>NaN</td>\n",
       "      <td>NaN</td>\n",
       "      <td>NaN</td>\n",
       "      <td>NaN</td>\n",
       "      <td>0.0</td>\n",
       "      <td>NaN</td>\n",
       "      <td>NaN</td>\n",
       "      <td>NaN</td>\n",
       "      <td>NaN</td>\n",
       "      <td>NaN</td>\n",
       "      <td>NaN</td>\n",
       "      <td>NaN</td>\n",
       "      <td>NaN</td>\n",
       "      <td>NaN</td>\n",
       "      <td>NaN</td>\n",
       "      <td>NESt0G8EIb</td>\n",
       "      <td>AERks4l</td>\n",
       "      <td>NaN</td>\n",
       "      <td>taul</td>\n",
       "      <td>1K8T</td>\n",
       "      <td>0LaQ</td>\n",
       "      <td>UaKK0yW</td>\n",
       "      <td>I1sFbv_0IT</td>\n",
       "      <td>NaN</td>\n",
       "      <td>NaN</td>\n",
       "      <td>EkHG</td>\n",
       "      <td>9_Y1</td>\n",
       "      <td>k13i</td>\n",
       "      <td>09_Q</td>\n",
       "      <td>IYzP</td>\n",
       "      <td>GjJ35utlTa_GNSvxxpb9ju</td>\n",
       "      <td>kIsH</td>\n",
       "      <td>NaN</td>\n",
       "      <td>uKAI</td>\n",
       "      <td>L84s</td>\n",
       "      <td>JBfYVit4g8</td>\n",
       "      <td>NaN</td>\n",
       "      <td>NaN</td>\n",
       "      <td>NaN</td>\n",
       "      <td>TDctq2l</td>\n",
       "      <td>KmRo</td>\n",
       "      <td>cJvF</td>\n",
       "      <td>FzaX</td>\n",
       "      <td>hLKtJ9p</td>\n",
       "      <td>Al6ZaUT</td>\n",
       "      <td>vr93T2a</td>\n",
       "      <td>LM8l689qOp</td>\n",
       "      <td>NaN</td>\n",
       "      <td>NaN</td>\n",
       "      <td>fKCe</td>\n",
       "      <td>02N6s8f</td>\n",
       "      <td>xwM2aC7IdeMC0</td>\n",
       "      <td>NaN</td>\n",
       "      <td>NaN</td>\n",
       "      <td>False</td>\n",
       "    </tr>\n",
       "    <tr>\n",
       "      <th>1</th>\n",
       "      <td>NaN</td>\n",
       "      <td>NaN</td>\n",
       "      <td>NaN</td>\n",
       "      <td>NaN</td>\n",
       "      <td>NaN</td>\n",
       "      <td>1813.0</td>\n",
       "      <td>7.0</td>\n",
       "      <td>NaN</td>\n",
       "      <td>NaN</td>\n",
       "      <td>NaN</td>\n",
       "      <td>NaN</td>\n",
       "      <td>NaN</td>\n",
       "      <td>636.0</td>\n",
       "      <td>NaN</td>\n",
       "      <td>NaN</td>\n",
       "      <td>NaN</td>\n",
       "      <td>NaN</td>\n",
       "      <td>NaN</td>\n",
       "      <td>NaN</td>\n",
       "      <td>NaN</td>\n",
       "      <td>212.0</td>\n",
       "      <td>265.0</td>\n",
       "      <td>NaN</td>\n",
       "      <td>2.0</td>\n",
       "      <td>128.0</td>\n",
       "      <td>NaN</td>\n",
       "      <td>NaN</td>\n",
       "      <td>166.56</td>\n",
       "      <td>NaN</td>\n",
       "      <td>NaN</td>\n",
       "      <td>NaN</td>\n",
       "      <td>NaN</td>\n",
       "      <td>NaN</td>\n",
       "      <td>NaN</td>\n",
       "      <td>0.0</td>\n",
       "      <td>NaN</td>\n",
       "      <td>NaN</td>\n",
       "      <td>2706120.0</td>\n",
       "      <td>NaN</td>\n",
       "      <td>NaN</td>\n",
       "      <td>NaN</td>\n",
       "      <td>NaN</td>\n",
       "      <td>NaN</td>\n",
       "      <td>0.0</td>\n",
       "      <td>NaN</td>\n",
       "      <td>NaN</td>\n",
       "      <td>NaN</td>\n",
       "      <td>NaN</td>\n",
       "      <td>NaN</td>\n",
       "      <td>NaN</td>\n",
       "      <td>NaN</td>\n",
       "      <td>NaN</td>\n",
       "      <td>NaN</td>\n",
       "      <td>NaN</td>\n",
       "      <td>NaN</td>\n",
       "      <td>NaN</td>\n",
       "      <td>5.870327</td>\n",
       "      <td>NaN</td>\n",
       "      <td>NaN</td>\n",
       "      <td>NaN</td>\n",
       "      <td>NaN</td>\n",
       "      <td>NaN</td>\n",
       "      <td>NaN</td>\n",
       "      <td>NaN</td>\n",
       "      <td>27.0</td>\n",
       "      <td>NaN</td>\n",
       "      <td>NaN</td>\n",
       "      <td>NaN</td>\n",
       "      <td>NaN</td>\n",
       "      <td>NaN</td>\n",
       "      <td>NaN</td>\n",
       "      <td>3.0</td>\n",
       "      <td>128</td>\n",
       "      <td>0.0</td>\n",
       "      <td>NaN</td>\n",
       "      <td>1661128.0</td>\n",
       "      <td>NaN</td>\n",
       "      <td>0.0</td>\n",
       "      <td>NaN</td>\n",
       "      <td>NaN</td>\n",
       "      <td>67529.09</td>\n",
       "      <td>NaN</td>\n",
       "      <td>25.0</td>\n",
       "      <td>NaN</td>\n",
       "      <td>10.0</td>\n",
       "      <td>NaN</td>\n",
       "      <td>NaN</td>\n",
       "      <td>NaN</td>\n",
       "      <td>NaN</td>\n",
       "      <td>NaN</td>\n",
       "      <td>NaN</td>\n",
       "      <td>NaN</td>\n",
       "      <td>NaN</td>\n",
       "      <td>32289.0</td>\n",
       "      <td>NaN</td>\n",
       "      <td>NaN</td>\n",
       "      <td>NaN</td>\n",
       "      <td>NaN</td>\n",
       "      <td>NaN</td>\n",
       "      <td>NaN</td>\n",
       "      <td>NaN</td>\n",
       "      <td>NaN</td>\n",
       "      <td>NaN</td>\n",
       "      <td>NaN</td>\n",
       "      <td>NaN</td>\n",
       "      <td>NaN</td>\n",
       "      <td>NaN</td>\n",
       "      <td>NaN</td>\n",
       "      <td>80.0</td>\n",
       "      <td>NaN</td>\n",
       "      <td>NaN</td>\n",
       "      <td>72.0</td>\n",
       "      <td>417932.0</td>\n",
       "      <td>NaN</td>\n",
       "      <td>NaN</td>\n",
       "      <td>NaN</td>\n",
       "      <td>NaN</td>\n",
       "      <td>NaN</td>\n",
       "      <td>1025.0</td>\n",
       "      <td>NaN</td>\n",
       "      <td>NaN</td>\n",
       "      <td>NaN</td>\n",
       "      <td>66.0</td>\n",
       "      <td>NaN</td>\n",
       "      <td>24912.0</td>\n",
       "      <td>40.0</td>\n",
       "      <td>NaN</td>\n",
       "      <td>NaN</td>\n",
       "      <td>NaN</td>\n",
       "      <td>NaN</td>\n",
       "      <td>NaN</td>\n",
       "      <td>0.0</td>\n",
       "      <td>1934460.0</td>\n",
       "      <td>349568.0</td>\n",
       "      <td>NaN</td>\n",
       "      <td>NaN</td>\n",
       "      <td>NaN</td>\n",
       "      <td>NaN</td>\n",
       "      <td>NaN</td>\n",
       "      <td>205.0</td>\n",
       "      <td>NaN</td>\n",
       "      <td>NaN</td>\n",
       "      <td>0.0</td>\n",
       "      <td>18.0</td>\n",
       "      <td>NaN</td>\n",
       "      <td>NaN</td>\n",
       "      <td>NaN</td>\n",
       "      <td>NaN</td>\n",
       "      <td>735.0</td>\n",
       "      <td>NaN</td>\n",
       "      <td>NaN</td>\n",
       "      <td>NaN</td>\n",
       "      <td>6502680.0</td>\n",
       "      <td>NaN</td>\n",
       "      <td>NaN</td>\n",
       "      <td>NaN</td>\n",
       "      <td>NaN</td>\n",
       "      <td>NaN</td>\n",
       "      <td>NaN</td>\n",
       "      <td>14.0</td>\n",
       "      <td>NaN</td>\n",
       "      <td>NaN</td>\n",
       "      <td>364182.0</td>\n",
       "      <td>NaN</td>\n",
       "      <td>NaN</td>\n",
       "      <td>NaN</td>\n",
       "      <td>NaN</td>\n",
       "      <td>NaN</td>\n",
       "      <td>NaN</td>\n",
       "      <td>NaN</td>\n",
       "      <td>NaN</td>\n",
       "      <td>NaN</td>\n",
       "      <td>0.0</td>\n",
       "      <td>NaN</td>\n",
       "      <td>NaN</td>\n",
       "      <td>NaN</td>\n",
       "      <td>NaN</td>\n",
       "      <td>NaN</td>\n",
       "      <td>NaN</td>\n",
       "      <td>NaN</td>\n",
       "      <td>0.0</td>\n",
       "      <td>NaN</td>\n",
       "      <td>NaN</td>\n",
       "      <td>NaN</td>\n",
       "      <td>NaN</td>\n",
       "      <td>NaN</td>\n",
       "      <td>NaN</td>\n",
       "      <td>NaN</td>\n",
       "      <td>276.0</td>\n",
       "      <td>NaN</td>\n",
       "      <td>NaN</td>\n",
       "      <td>P1WvyxLp3Z</td>\n",
       "      <td>2Knk1KF</td>\n",
       "      <td>NaN</td>\n",
       "      <td>taul</td>\n",
       "      <td>1K8T</td>\n",
       "      <td>YFAj</td>\n",
       "      <td>Bnunsla</td>\n",
       "      <td>o64y9zI</td>\n",
       "      <td>DlISMzi</td>\n",
       "      <td>NaN</td>\n",
       "      <td>JDd6</td>\n",
       "      <td>9_Y1</td>\n",
       "      <td>FbIm</td>\n",
       "      <td>VpdQ</td>\n",
       "      <td>haYg</td>\n",
       "      <td>me75fM6ugJ</td>\n",
       "      <td>kIsH</td>\n",
       "      <td>NaN</td>\n",
       "      <td>uKAI</td>\n",
       "      <td>L84s</td>\n",
       "      <td>XfqtO3UdzaXh_</td>\n",
       "      <td>NaN</td>\n",
       "      <td>I_mbgcr</td>\n",
       "      <td>NaN</td>\n",
       "      <td>XTbqizz</td>\n",
       "      <td>qMoY</td>\n",
       "      <td>cJvF</td>\n",
       "      <td>FzaX</td>\n",
       "      <td>hN8KpA1</td>\n",
       "      <td>oslk</td>\n",
       "      <td>6hQ9lNX</td>\n",
       "      <td>LM8l689qOp</td>\n",
       "      <td>NaN</td>\n",
       "      <td>ELof</td>\n",
       "      <td>xb3V</td>\n",
       "      <td>RAYp</td>\n",
       "      <td>55YFVY9</td>\n",
       "      <td>mj86</td>\n",
       "      <td>NaN</td>\n",
       "      <td>False</td>\n",
       "    </tr>\n",
       "    <tr>\n",
       "      <th>2</th>\n",
       "      <td>NaN</td>\n",
       "      <td>NaN</td>\n",
       "      <td>NaN</td>\n",
       "      <td>NaN</td>\n",
       "      <td>NaN</td>\n",
       "      <td>1953.0</td>\n",
       "      <td>7.0</td>\n",
       "      <td>NaN</td>\n",
       "      <td>NaN</td>\n",
       "      <td>NaN</td>\n",
       "      <td>NaN</td>\n",
       "      <td>NaN</td>\n",
       "      <td>448.0</td>\n",
       "      <td>NaN</td>\n",
       "      <td>NaN</td>\n",
       "      <td>NaN</td>\n",
       "      <td>NaN</td>\n",
       "      <td>NaN</td>\n",
       "      <td>NaN</td>\n",
       "      <td>NaN</td>\n",
       "      <td>176.0</td>\n",
       "      <td>220.0</td>\n",
       "      <td>NaN</td>\n",
       "      <td>0.0</td>\n",
       "      <td>72.0</td>\n",
       "      <td>NaN</td>\n",
       "      <td>NaN</td>\n",
       "      <td>311.76</td>\n",
       "      <td>NaN</td>\n",
       "      <td>NaN</td>\n",
       "      <td>NaN</td>\n",
       "      <td>NaN</td>\n",
       "      <td>NaN</td>\n",
       "      <td>NaN</td>\n",
       "      <td>0.0</td>\n",
       "      <td>NaN</td>\n",
       "      <td>NaN</td>\n",
       "      <td>4698780.0</td>\n",
       "      <td>NaN</td>\n",
       "      <td>NaN</td>\n",
       "      <td>NaN</td>\n",
       "      <td>NaN</td>\n",
       "      <td>NaN</td>\n",
       "      <td>0.0</td>\n",
       "      <td>NaN</td>\n",
       "      <td>NaN</td>\n",
       "      <td>NaN</td>\n",
       "      <td>NaN</td>\n",
       "      <td>NaN</td>\n",
       "      <td>NaN</td>\n",
       "      <td>NaN</td>\n",
       "      <td>NaN</td>\n",
       "      <td>NaN</td>\n",
       "      <td>NaN</td>\n",
       "      <td>NaN</td>\n",
       "      <td>NaN</td>\n",
       "      <td>5.981628</td>\n",
       "      <td>NaN</td>\n",
       "      <td>NaN</td>\n",
       "      <td>NaN</td>\n",
       "      <td>NaN</td>\n",
       "      <td>NaN</td>\n",
       "      <td>NaN</td>\n",
       "      <td>NaN</td>\n",
       "      <td>18.0</td>\n",
       "      <td>NaN</td>\n",
       "      <td>NaN</td>\n",
       "      <td>NaN</td>\n",
       "      <td>NaN</td>\n",
       "      <td>NaN</td>\n",
       "      <td>NaN</td>\n",
       "      <td>3.0</td>\n",
       "      <td>166</td>\n",
       "      <td>245.0</td>\n",
       "      <td>NaN</td>\n",
       "      <td>3025152.0</td>\n",
       "      <td>NaN</td>\n",
       "      <td>0.0</td>\n",
       "      <td>NaN</td>\n",
       "      <td>NaN</td>\n",
       "      <td>85266.00</td>\n",
       "      <td>NaN</td>\n",
       "      <td>35.0</td>\n",
       "      <td>NaN</td>\n",
       "      <td>0.0</td>\n",
       "      <td>NaN</td>\n",
       "      <td>NaN</td>\n",
       "      <td>NaN</td>\n",
       "      <td>NaN</td>\n",
       "      <td>NaN</td>\n",
       "      <td>NaN</td>\n",
       "      <td>NaN</td>\n",
       "      <td>NaN</td>\n",
       "      <td>53388.0</td>\n",
       "      <td>NaN</td>\n",
       "      <td>NaN</td>\n",
       "      <td>NaN</td>\n",
       "      <td>NaN</td>\n",
       "      <td>NaN</td>\n",
       "      <td>NaN</td>\n",
       "      <td>NaN</td>\n",
       "      <td>NaN</td>\n",
       "      <td>NaN</td>\n",
       "      <td>NaN</td>\n",
       "      <td>NaN</td>\n",
       "      <td>NaN</td>\n",
       "      <td>NaN</td>\n",
       "      <td>NaN</td>\n",
       "      <td>40.0</td>\n",
       "      <td>NaN</td>\n",
       "      <td>NaN</td>\n",
       "      <td>48.0</td>\n",
       "      <td>-124655.2</td>\n",
       "      <td>NaN</td>\n",
       "      <td>NaN</td>\n",
       "      <td>NaN</td>\n",
       "      <td>NaN</td>\n",
       "      <td>NaN</td>\n",
       "      <td>590.0</td>\n",
       "      <td>NaN</td>\n",
       "      <td>NaN</td>\n",
       "      <td>NaN</td>\n",
       "      <td>78.0</td>\n",
       "      <td>NaN</td>\n",
       "      <td>7218.0</td>\n",
       "      <td>36.0</td>\n",
       "      <td>NaN</td>\n",
       "      <td>NaN</td>\n",
       "      <td>NaN</td>\n",
       "      <td>NaN</td>\n",
       "      <td>NaN</td>\n",
       "      <td>0.0</td>\n",
       "      <td>3148410.0</td>\n",
       "      <td>1086210.0</td>\n",
       "      <td>NaN</td>\n",
       "      <td>NaN</td>\n",
       "      <td>NaN</td>\n",
       "      <td>NaN</td>\n",
       "      <td>NaN</td>\n",
       "      <td>400.0</td>\n",
       "      <td>NaN</td>\n",
       "      <td>NaN</td>\n",
       "      <td>0.0</td>\n",
       "      <td>27.0</td>\n",
       "      <td>NaN</td>\n",
       "      <td>NaN</td>\n",
       "      <td>NaN</td>\n",
       "      <td>NaN</td>\n",
       "      <td>0.0</td>\n",
       "      <td>NaN</td>\n",
       "      <td>NaN</td>\n",
       "      <td>NaN</td>\n",
       "      <td>10569040.0</td>\n",
       "      <td>NaN</td>\n",
       "      <td>NaN</td>\n",
       "      <td>NaN</td>\n",
       "      <td>NaN</td>\n",
       "      <td>NaN</td>\n",
       "      <td>NaN</td>\n",
       "      <td>18.0</td>\n",
       "      <td>NaN</td>\n",
       "      <td>NaN</td>\n",
       "      <td>0.0</td>\n",
       "      <td>NaN</td>\n",
       "      <td>NaN</td>\n",
       "      <td>NaN</td>\n",
       "      <td>NaN</td>\n",
       "      <td>NaN</td>\n",
       "      <td>NaN</td>\n",
       "      <td>NaN</td>\n",
       "      <td>NaN</td>\n",
       "      <td>NaN</td>\n",
       "      <td>0.0</td>\n",
       "      <td>NaN</td>\n",
       "      <td>NaN</td>\n",
       "      <td>NaN</td>\n",
       "      <td>NaN</td>\n",
       "      <td>NaN</td>\n",
       "      <td>NaN</td>\n",
       "      <td>NaN</td>\n",
       "      <td>0.0</td>\n",
       "      <td>NaN</td>\n",
       "      <td>NaN</td>\n",
       "      <td>NaN</td>\n",
       "      <td>NaN</td>\n",
       "      <td>NaN</td>\n",
       "      <td>NaN</td>\n",
       "      <td>NaN</td>\n",
       "      <td>NaN</td>\n",
       "      <td>NaN</td>\n",
       "      <td>NaN</td>\n",
       "      <td>FoxgUHSK8h</td>\n",
       "      <td>LrdZy8QqgUfkVShG</td>\n",
       "      <td>NaN</td>\n",
       "      <td>taul</td>\n",
       "      <td>1K8T</td>\n",
       "      <td>TyGl</td>\n",
       "      <td>fhk21Ss</td>\n",
       "      <td>nQUveAzAF7</td>\n",
       "      <td>NaN</td>\n",
       "      <td>NaN</td>\n",
       "      <td>dnwD</td>\n",
       "      <td>9_Y1</td>\n",
       "      <td>mTeA</td>\n",
       "      <td>VpdQ</td>\n",
       "      <td>hAFG</td>\n",
       "      <td>7M47J5GA0pTYIFxg5uy</td>\n",
       "      <td>kIsH</td>\n",
       "      <td>NaN</td>\n",
       "      <td>uKAI</td>\n",
       "      <td>L84s</td>\n",
       "      <td>4kVnq_T26xq1p</td>\n",
       "      <td>NaN</td>\n",
       "      <td>NaN</td>\n",
       "      <td>NaN</td>\n",
       "      <td>pMWBUmQ</td>\n",
       "      <td>qLXr</td>\n",
       "      <td>UYBR</td>\n",
       "      <td>FzaX</td>\n",
       "      <td>4UxGlow</td>\n",
       "      <td>zCkv</td>\n",
       "      <td>catzS2D</td>\n",
       "      <td>LM8l689qOp</td>\n",
       "      <td>NaN</td>\n",
       "      <td>NaN</td>\n",
       "      <td>FSa2</td>\n",
       "      <td>ZI9m</td>\n",
       "      <td>ib5G6X1eUxUn6</td>\n",
       "      <td>mj86</td>\n",
       "      <td>NaN</td>\n",
       "      <td>False</td>\n",
       "    </tr>\n",
       "    <tr>\n",
       "      <th>3</th>\n",
       "      <td>NaN</td>\n",
       "      <td>NaN</td>\n",
       "      <td>NaN</td>\n",
       "      <td>NaN</td>\n",
       "      <td>NaN</td>\n",
       "      <td>1533.0</td>\n",
       "      <td>7.0</td>\n",
       "      <td>NaN</td>\n",
       "      <td>NaN</td>\n",
       "      <td>NaN</td>\n",
       "      <td>NaN</td>\n",
       "      <td>NaN</td>\n",
       "      <td>4.0</td>\n",
       "      <td>NaN</td>\n",
       "      <td>NaN</td>\n",
       "      <td>NaN</td>\n",
       "      <td>NaN</td>\n",
       "      <td>NaN</td>\n",
       "      <td>NaN</td>\n",
       "      <td>NaN</td>\n",
       "      <td>332.0</td>\n",
       "      <td>415.0</td>\n",
       "      <td>NaN</td>\n",
       "      <td>0.0</td>\n",
       "      <td>144.0</td>\n",
       "      <td>NaN</td>\n",
       "      <td>NaN</td>\n",
       "      <td>220.08</td>\n",
       "      <td>NaN</td>\n",
       "      <td>NaN</td>\n",
       "      <td>NaN</td>\n",
       "      <td>NaN</td>\n",
       "      <td>NaN</td>\n",
       "      <td>NaN</td>\n",
       "      <td>5.0</td>\n",
       "      <td>NaN</td>\n",
       "      <td>NaN</td>\n",
       "      <td>864384.0</td>\n",
       "      <td>NaN</td>\n",
       "      <td>NaN</td>\n",
       "      <td>NaN</td>\n",
       "      <td>NaN</td>\n",
       "      <td>NaN</td>\n",
       "      <td>0.0</td>\n",
       "      <td>NaN</td>\n",
       "      <td>NaN</td>\n",
       "      <td>NaN</td>\n",
       "      <td>NaN</td>\n",
       "      <td>NaN</td>\n",
       "      <td>NaN</td>\n",
       "      <td>NaN</td>\n",
       "      <td>NaN</td>\n",
       "      <td>NaN</td>\n",
       "      <td>NaN</td>\n",
       "      <td>NaN</td>\n",
       "      <td>NaN</td>\n",
       "      <td>5.108097</td>\n",
       "      <td>NaN</td>\n",
       "      <td>NaN</td>\n",
       "      <td>NaN</td>\n",
       "      <td>NaN</td>\n",
       "      <td>NaN</td>\n",
       "      <td>NaN</td>\n",
       "      <td>NaN</td>\n",
       "      <td>9.0</td>\n",
       "      <td>NaN</td>\n",
       "      <td>NaN</td>\n",
       "      <td>NaN</td>\n",
       "      <td>NaN</td>\n",
       "      <td>NaN</td>\n",
       "      <td>NaN</td>\n",
       "      <td>NaN</td>\n",
       "      <td>30</td>\n",
       "      <td>0.0</td>\n",
       "      <td>NaN</td>\n",
       "      <td>2642240.0</td>\n",
       "      <td>NaN</td>\n",
       "      <td>0.0</td>\n",
       "      <td>NaN</td>\n",
       "      <td>NaN</td>\n",
       "      <td>74107.20</td>\n",
       "      <td>NaN</td>\n",
       "      <td>10.0</td>\n",
       "      <td>NaN</td>\n",
       "      <td>2.0</td>\n",
       "      <td>NaN</td>\n",
       "      <td>NaN</td>\n",
       "      <td>NaN</td>\n",
       "      <td>NaN</td>\n",
       "      <td>NaN</td>\n",
       "      <td>NaN</td>\n",
       "      <td>NaN</td>\n",
       "      <td>NaN</td>\n",
       "      <td>NaN</td>\n",
       "      <td>NaN</td>\n",
       "      <td>NaN</td>\n",
       "      <td>NaN</td>\n",
       "      <td>NaN</td>\n",
       "      <td>NaN</td>\n",
       "      <td>NaN</td>\n",
       "      <td>NaN</td>\n",
       "      <td>NaN</td>\n",
       "      <td>NaN</td>\n",
       "      <td>NaN</td>\n",
       "      <td>NaN</td>\n",
       "      <td>NaN</td>\n",
       "      <td>NaN</td>\n",
       "      <td>NaN</td>\n",
       "      <td>32.0</td>\n",
       "      <td>NaN</td>\n",
       "      <td>NaN</td>\n",
       "      <td>32.0</td>\n",
       "      <td>378473.6</td>\n",
       "      <td>NaN</td>\n",
       "      <td>NaN</td>\n",
       "      <td>NaN</td>\n",
       "      <td>NaN</td>\n",
       "      <td>NaN</td>\n",
       "      <td>1435.0</td>\n",
       "      <td>NaN</td>\n",
       "      <td>NaN</td>\n",
       "      <td>NaN</td>\n",
       "      <td>24.0</td>\n",
       "      <td>NaN</td>\n",
       "      <td>693.0</td>\n",
       "      <td>NaN</td>\n",
       "      <td>NaN</td>\n",
       "      <td>NaN</td>\n",
       "      <td>NaN</td>\n",
       "      <td>NaN</td>\n",
       "      <td>NaN</td>\n",
       "      <td>8.0</td>\n",
       "      <td>7066700.0</td>\n",
       "      <td>650390.0</td>\n",
       "      <td>NaN</td>\n",
       "      <td>NaN</td>\n",
       "      <td>NaN</td>\n",
       "      <td>NaN</td>\n",
       "      <td>NaN</td>\n",
       "      <td>5.0</td>\n",
       "      <td>NaN</td>\n",
       "      <td>NaN</td>\n",
       "      <td>0.0</td>\n",
       "      <td>0.0</td>\n",
       "      <td>NaN</td>\n",
       "      <td>NaN</td>\n",
       "      <td>NaN</td>\n",
       "      <td>NaN</td>\n",
       "      <td>0.0</td>\n",
       "      <td>NaN</td>\n",
       "      <td>NaN</td>\n",
       "      <td>NaN</td>\n",
       "      <td>9676200.0</td>\n",
       "      <td>NaN</td>\n",
       "      <td>NaN</td>\n",
       "      <td>NaN</td>\n",
       "      <td>NaN</td>\n",
       "      <td>NaN</td>\n",
       "      <td>NaN</td>\n",
       "      <td>108.0</td>\n",
       "      <td>NaN</td>\n",
       "      <td>NaN</td>\n",
       "      <td>253284.0</td>\n",
       "      <td>NaN</td>\n",
       "      <td>NaN</td>\n",
       "      <td>NaN</td>\n",
       "      <td>NaN</td>\n",
       "      <td>NaN</td>\n",
       "      <td>NaN</td>\n",
       "      <td>NaN</td>\n",
       "      <td>NaN</td>\n",
       "      <td>NaN</td>\n",
       "      <td>0.0</td>\n",
       "      <td>NaN</td>\n",
       "      <td>NaN</td>\n",
       "      <td>NaN</td>\n",
       "      <td>NaN</td>\n",
       "      <td>NaN</td>\n",
       "      <td>NaN</td>\n",
       "      <td>NaN</td>\n",
       "      <td>0.0</td>\n",
       "      <td>NaN</td>\n",
       "      <td>NaN</td>\n",
       "      <td>NaN</td>\n",
       "      <td>NaN</td>\n",
       "      <td>NaN</td>\n",
       "      <td>NaN</td>\n",
       "      <td>NaN</td>\n",
       "      <td>NaN</td>\n",
       "      <td>NaN</td>\n",
       "      <td>NaN</td>\n",
       "      <td>vNEvyxLp3Z</td>\n",
       "      <td>RO12</td>\n",
       "      <td>NaN</td>\n",
       "      <td>taul</td>\n",
       "      <td>1K8T</td>\n",
       "      <td>0Xwj</td>\n",
       "      <td>uoZk2Zj</td>\n",
       "      <td>LWyxgtXeJL</td>\n",
       "      <td>NaN</td>\n",
       "      <td>NaN</td>\n",
       "      <td>CwmB</td>\n",
       "      <td>F3hy</td>\n",
       "      <td>vzJD</td>\n",
       "      <td>VpdQ</td>\n",
       "      <td>IYzP</td>\n",
       "      <td>me75fM6ugJ</td>\n",
       "      <td>kIsH</td>\n",
       "      <td>NaN</td>\n",
       "      <td>uKAI</td>\n",
       "      <td>L84s</td>\n",
       "      <td>NhsEn4L</td>\n",
       "      <td>NaN</td>\n",
       "      <td>NaN</td>\n",
       "      <td>NaN</td>\n",
       "      <td>kZJtVhC</td>\n",
       "      <td>JC0e</td>\n",
       "      <td>cJvF</td>\n",
       "      <td>FzaX</td>\n",
       "      <td>ylCK5YS</td>\n",
       "      <td>oslk</td>\n",
       "      <td>e4lqvY0</td>\n",
       "      <td>LM8l689qOp</td>\n",
       "      <td>NaN</td>\n",
       "      <td>NaN</td>\n",
       "      <td>xb3V</td>\n",
       "      <td>RAYp</td>\n",
       "      <td>F2FyR07IdsN7I</td>\n",
       "      <td>NaN</td>\n",
       "      <td>NaN</td>\n",
       "      <td>True</td>\n",
       "    </tr>\n",
       "    <tr>\n",
       "      <th>4</th>\n",
       "      <td>NaN</td>\n",
       "      <td>NaN</td>\n",
       "      <td>NaN</td>\n",
       "      <td>NaN</td>\n",
       "      <td>NaN</td>\n",
       "      <td>686.0</td>\n",
       "      <td>7.0</td>\n",
       "      <td>NaN</td>\n",
       "      <td>NaN</td>\n",
       "      <td>NaN</td>\n",
       "      <td>NaN</td>\n",
       "      <td>NaN</td>\n",
       "      <td>0.0</td>\n",
       "      <td>NaN</td>\n",
       "      <td>NaN</td>\n",
       "      <td>NaN</td>\n",
       "      <td>NaN</td>\n",
       "      <td>NaN</td>\n",
       "      <td>NaN</td>\n",
       "      <td>NaN</td>\n",
       "      <td>160.0</td>\n",
       "      <td>200.0</td>\n",
       "      <td>NaN</td>\n",
       "      <td>2.0</td>\n",
       "      <td>48.0</td>\n",
       "      <td>NaN</td>\n",
       "      <td>NaN</td>\n",
       "      <td>278.00</td>\n",
       "      <td>NaN</td>\n",
       "      <td>NaN</td>\n",
       "      <td>NaN</td>\n",
       "      <td>NaN</td>\n",
       "      <td>NaN</td>\n",
       "      <td>NaN</td>\n",
       "      <td>0.0</td>\n",
       "      <td>NaN</td>\n",
       "      <td>NaN</td>\n",
       "      <td>4364880.0</td>\n",
       "      <td>NaN</td>\n",
       "      <td>NaN</td>\n",
       "      <td>NaN</td>\n",
       "      <td>NaN</td>\n",
       "      <td>NaN</td>\n",
       "      <td>0.0</td>\n",
       "      <td>NaN</td>\n",
       "      <td>NaN</td>\n",
       "      <td>NaN</td>\n",
       "      <td>NaN</td>\n",
       "      <td>NaN</td>\n",
       "      <td>NaN</td>\n",
       "      <td>NaN</td>\n",
       "      <td>NaN</td>\n",
       "      <td>NaN</td>\n",
       "      <td>NaN</td>\n",
       "      <td>NaN</td>\n",
       "      <td>NaN</td>\n",
       "      <td>0.650716</td>\n",
       "      <td>NaN</td>\n",
       "      <td>NaN</td>\n",
       "      <td>NaN</td>\n",
       "      <td>NaN</td>\n",
       "      <td>NaN</td>\n",
       "      <td>NaN</td>\n",
       "      <td>NaN</td>\n",
       "      <td>9.0</td>\n",
       "      <td>NaN</td>\n",
       "      <td>NaN</td>\n",
       "      <td>NaN</td>\n",
       "      <td>NaN</td>\n",
       "      <td>NaN</td>\n",
       "      <td>NaN</td>\n",
       "      <td>3.0</td>\n",
       "      <td>32</td>\n",
       "      <td>0.0</td>\n",
       "      <td>NaN</td>\n",
       "      <td>1440.0</td>\n",
       "      <td>NaN</td>\n",
       "      <td>0.0</td>\n",
       "      <td>NaN</td>\n",
       "      <td>NaN</td>\n",
       "      <td>171072.90</td>\n",
       "      <td>NaN</td>\n",
       "      <td>25.0</td>\n",
       "      <td>NaN</td>\n",
       "      <td>12.0</td>\n",
       "      <td>NaN</td>\n",
       "      <td>NaN</td>\n",
       "      <td>NaN</td>\n",
       "      <td>NaN</td>\n",
       "      <td>NaN</td>\n",
       "      <td>NaN</td>\n",
       "      <td>NaN</td>\n",
       "      <td>NaN</td>\n",
       "      <td>106455.0</td>\n",
       "      <td>NaN</td>\n",
       "      <td>NaN</td>\n",
       "      <td>NaN</td>\n",
       "      <td>NaN</td>\n",
       "      <td>NaN</td>\n",
       "      <td>NaN</td>\n",
       "      <td>NaN</td>\n",
       "      <td>NaN</td>\n",
       "      <td>NaN</td>\n",
       "      <td>NaN</td>\n",
       "      <td>NaN</td>\n",
       "      <td>NaN</td>\n",
       "      <td>NaN</td>\n",
       "      <td>NaN</td>\n",
       "      <td>32.0</td>\n",
       "      <td>NaN</td>\n",
       "      <td>NaN</td>\n",
       "      <td>8.0</td>\n",
       "      <td>142602.4</td>\n",
       "      <td>NaN</td>\n",
       "      <td>NaN</td>\n",
       "      <td>NaN</td>\n",
       "      <td>NaN</td>\n",
       "      <td>NaN</td>\n",
       "      <td>490.0</td>\n",
       "      <td>NaN</td>\n",
       "      <td>NaN</td>\n",
       "      <td>NaN</td>\n",
       "      <td>60.0</td>\n",
       "      <td>NaN</td>\n",
       "      <td>468.0</td>\n",
       "      <td>-28.0</td>\n",
       "      <td>NaN</td>\n",
       "      <td>NaN</td>\n",
       "      <td>NaN</td>\n",
       "      <td>NaN</td>\n",
       "      <td>NaN</td>\n",
       "      <td>0.0</td>\n",
       "      <td>3794460.0</td>\n",
       "      <td>642816.0</td>\n",
       "      <td>NaN</td>\n",
       "      <td>NaN</td>\n",
       "      <td>NaN</td>\n",
       "      <td>NaN</td>\n",
       "      <td>NaN</td>\n",
       "      <td>225.0</td>\n",
       "      <td>NaN</td>\n",
       "      <td>NaN</td>\n",
       "      <td>0.0</td>\n",
       "      <td>9.0</td>\n",
       "      <td>NaN</td>\n",
       "      <td>NaN</td>\n",
       "      <td>NaN</td>\n",
       "      <td>NaN</td>\n",
       "      <td>554414.0</td>\n",
       "      <td>NaN</td>\n",
       "      <td>NaN</td>\n",
       "      <td>NaN</td>\n",
       "      <td>10535200.0</td>\n",
       "      <td>NaN</td>\n",
       "      <td>NaN</td>\n",
       "      <td>NaN</td>\n",
       "      <td>NaN</td>\n",
       "      <td>NaN</td>\n",
       "      <td>NaN</td>\n",
       "      <td>24.0</td>\n",
       "      <td>NaN</td>\n",
       "      <td>NaN</td>\n",
       "      <td>2851284.0</td>\n",
       "      <td>NaN</td>\n",
       "      <td>NaN</td>\n",
       "      <td>NaN</td>\n",
       "      <td>NaN</td>\n",
       "      <td>NaN</td>\n",
       "      <td>NaN</td>\n",
       "      <td>NaN</td>\n",
       "      <td>NaN</td>\n",
       "      <td>NaN</td>\n",
       "      <td>0.0</td>\n",
       "      <td>NaN</td>\n",
       "      <td>NaN</td>\n",
       "      <td>NaN</td>\n",
       "      <td>NaN</td>\n",
       "      <td>NaN</td>\n",
       "      <td>NaN</td>\n",
       "      <td>NaN</td>\n",
       "      <td>0.0</td>\n",
       "      <td>NaN</td>\n",
       "      <td>NaN</td>\n",
       "      <td>NaN</td>\n",
       "      <td>NaN</td>\n",
       "      <td>NaN</td>\n",
       "      <td>NaN</td>\n",
       "      <td>NaN</td>\n",
       "      <td>NaN</td>\n",
       "      <td>NaN</td>\n",
       "      <td>NaN</td>\n",
       "      <td>4e7gUH7IEC</td>\n",
       "      <td>RO12</td>\n",
       "      <td>NaN</td>\n",
       "      <td>taul</td>\n",
       "      <td>1K8T</td>\n",
       "      <td>vSNn</td>\n",
       "      <td>kugYdIL</td>\n",
       "      <td>ZIXKpoNpqq</td>\n",
       "      <td>NaN</td>\n",
       "      <td>NaN</td>\n",
       "      <td>625Z</td>\n",
       "      <td>9_Y1</td>\n",
       "      <td>m_h1</td>\n",
       "      <td>sJzTlal</td>\n",
       "      <td>zm5i</td>\n",
       "      <td>me75fM6ugJ</td>\n",
       "      <td>kIsH</td>\n",
       "      <td>NaN</td>\n",
       "      <td>uKAI</td>\n",
       "      <td>L84s</td>\n",
       "      <td>NhsEn4L</td>\n",
       "      <td>NaN</td>\n",
       "      <td>NaN</td>\n",
       "      <td>NaN</td>\n",
       "      <td>NGZXfGp</td>\n",
       "      <td>064o</td>\n",
       "      <td>cJvF</td>\n",
       "      <td>FzaX</td>\n",
       "      <td>PYpzAu9</td>\n",
       "      <td>oslk</td>\n",
       "      <td>MAz3HNj</td>\n",
       "      <td>LM8l689qOp</td>\n",
       "      <td>NaN</td>\n",
       "      <td>NaN</td>\n",
       "      <td>WqMG</td>\n",
       "      <td>RAYp</td>\n",
       "      <td>F2FyR07IdsN7I</td>\n",
       "      <td>NaN</td>\n",
       "      <td>NaN</td>\n",
       "      <td>False</td>\n",
       "    </tr>\n",
       "  </tbody>\n",
       "</table>\n",
       "</div>"
      ],
      "text/plain": [
       "   Var1  Var2  Var3  Var4  Var5    Var6  Var7  Var8  Var9  Var10  Var11  \\\n",
       "0   NaN   NaN   NaN   NaN   NaN  3052.0   NaN   NaN   NaN    NaN    NaN   \n",
       "1   NaN   NaN   NaN   NaN   NaN  1813.0   7.0   NaN   NaN    NaN    NaN   \n",
       "2   NaN   NaN   NaN   NaN   NaN  1953.0   7.0   NaN   NaN    NaN    NaN   \n",
       "3   NaN   NaN   NaN   NaN   NaN  1533.0   7.0   NaN   NaN    NaN    NaN   \n",
       "4   NaN   NaN   NaN   NaN   NaN   686.0   7.0   NaN   NaN    NaN    NaN   \n",
       "\n",
       "   Var12  Var13  Var14  Var15  Var16  Var17  Var18  Var19  Var20  Var21  \\\n",
       "0    NaN    NaN    NaN    NaN    NaN    NaN    NaN    NaN    NaN  480.0   \n",
       "1    NaN  636.0    NaN    NaN    NaN    NaN    NaN    NaN    NaN  212.0   \n",
       "2    NaN  448.0    NaN    NaN    NaN    NaN    NaN    NaN    NaN  176.0   \n",
       "3    NaN    4.0    NaN    NaN    NaN    NaN    NaN    NaN    NaN  332.0   \n",
       "4    NaN    0.0    NaN    NaN    NaN    NaN    NaN    NaN    NaN  160.0   \n",
       "\n",
       "   Var22  Var23  Var24  Var25  Var26  Var27   Var28  Var29  Var30  Var31  \\\n",
       "0  600.0    NaN   20.0  480.0    NaN    NaN  200.00    NaN    NaN    NaN   \n",
       "1  265.0    NaN    2.0  128.0    NaN    NaN  166.56    NaN    NaN    NaN   \n",
       "2  220.0    NaN    0.0   72.0    NaN    NaN  311.76    NaN    NaN    NaN   \n",
       "3  415.0    NaN    0.0  144.0    NaN    NaN  220.08    NaN    NaN    NaN   \n",
       "4  200.0    NaN    2.0   48.0    NaN    NaN  278.00    NaN    NaN    NaN   \n",
       "\n",
       "   Var32  Var33  Var34  Var35  Var36  Var37      Var38  Var39  Var40  Var41  \\\n",
       "0    NaN    NaN    NaN    0.0    NaN    NaN    82752.0    NaN    NaN    NaN   \n",
       "1    NaN    NaN    NaN    0.0    NaN    NaN  2706120.0    NaN    NaN    NaN   \n",
       "2    NaN    NaN    NaN    0.0    NaN    NaN  4698780.0    NaN    NaN    NaN   \n",
       "3    NaN    NaN    NaN    5.0    NaN    NaN   864384.0    NaN    NaN    NaN   \n",
       "4    NaN    NaN    NaN    0.0    NaN    NaN  4364880.0    NaN    NaN    NaN   \n",
       "\n",
       "   Var42  Var43  Var44  Var45  Var46  Var47  Var48  Var49  Var50  Var51  \\\n",
       "0    NaN    NaN    0.0    NaN    NaN    NaN    NaN    NaN    NaN    NaN   \n",
       "1    NaN    NaN    0.0    NaN    NaN    NaN    NaN    NaN    NaN    NaN   \n",
       "2    NaN    NaN    0.0    NaN    NaN    NaN    NaN    NaN    NaN    NaN   \n",
       "3    NaN    NaN    0.0    NaN    NaN    NaN    NaN    NaN    NaN    NaN   \n",
       "4    NaN    NaN    0.0    NaN    NaN    NaN    NaN    NaN    NaN    NaN   \n",
       "\n",
       "   Var52  Var53  Var54  Var55  Var56     Var57  Var58  Var59  Var60  Var61  \\\n",
       "0    NaN    NaN    NaN    NaN    NaN  2.907926    NaN    NaN    NaN    NaN   \n",
       "1    NaN    NaN    NaN    NaN    NaN  5.870327    NaN    NaN    NaN    NaN   \n",
       "2    NaN    NaN    NaN    NaN    NaN  5.981628    NaN    NaN    NaN    NaN   \n",
       "3    NaN    NaN    NaN    NaN    NaN  5.108097    NaN    NaN    NaN    NaN   \n",
       "4    NaN    NaN    NaN    NaN    NaN  0.650716    NaN    NaN    NaN    NaN   \n",
       "\n",
       "   Var62  Var63  Var64  Var65  Var66  Var67  Var68  Var69  Var70  Var71  \\\n",
       "0    NaN    NaN    NaN    NaN    NaN    NaN    NaN    NaN    NaN    NaN   \n",
       "1    NaN    NaN    NaN   27.0    NaN    NaN    NaN    NaN    NaN    NaN   \n",
       "2    NaN    NaN    NaN   18.0    NaN    NaN    NaN    NaN    NaN    NaN   \n",
       "3    NaN    NaN    NaN    9.0    NaN    NaN    NaN    NaN    NaN    NaN   \n",
       "4    NaN    NaN    NaN    9.0    NaN    NaN    NaN    NaN    NaN    NaN   \n",
       "\n",
       "   Var72  Var73  Var74  Var75      Var76  Var77  Var78  Var79  Var80  \\\n",
       "0    NaN     34    NaN    NaN   716008.0    NaN    0.0    NaN    NaN   \n",
       "1    3.0    128    0.0    NaN  1661128.0    NaN    0.0    NaN    NaN   \n",
       "2    3.0    166  245.0    NaN  3025152.0    NaN    0.0    NaN    NaN   \n",
       "3    NaN     30    0.0    NaN  2642240.0    NaN    0.0    NaN    NaN   \n",
       "4    3.0     32    0.0    NaN     1440.0    NaN    0.0    NaN    NaN   \n",
       "\n",
       "       Var81  Var82  Var83  Var84  Var85  Var86  Var87  Var88  Var89  Var90  \\\n",
       "0   14599.92    NaN    5.0    NaN   32.0    NaN    NaN    NaN    NaN    NaN   \n",
       "1   67529.09    NaN   25.0    NaN   10.0    NaN    NaN    NaN    NaN    NaN   \n",
       "2   85266.00    NaN   35.0    NaN    0.0    NaN    NaN    NaN    NaN    NaN   \n",
       "3   74107.20    NaN   10.0    NaN    2.0    NaN    NaN    NaN    NaN    NaN   \n",
       "4  171072.90    NaN   25.0    NaN   12.0    NaN    NaN    NaN    NaN    NaN   \n",
       "\n",
       "   Var91  Var92  Var93     Var94  Var95  Var96  Var97  Var98  Var99  Var100  \\\n",
       "0    NaN    NaN    NaN       NaN    NaN    NaN    NaN    NaN    NaN     NaN   \n",
       "1    NaN    NaN    NaN   32289.0    NaN    NaN    NaN    NaN    NaN     NaN   \n",
       "2    NaN    NaN    NaN   53388.0    NaN    NaN    NaN    NaN    NaN     NaN   \n",
       "3    NaN    NaN    NaN       NaN    NaN    NaN    NaN    NaN    NaN     NaN   \n",
       "4    NaN    NaN    NaN  106455.0    NaN    NaN    NaN    NaN    NaN     NaN   \n",
       "\n",
       "   Var101  Var102  Var103  Var104  Var105  Var106  Var107  Var108  Var109  \\\n",
       "0     NaN     NaN     NaN     NaN     NaN     NaN     NaN     NaN   144.0   \n",
       "1     NaN     NaN     NaN     NaN     NaN     NaN     NaN     NaN    80.0   \n",
       "2     NaN     NaN     NaN     NaN     NaN     NaN     NaN     NaN    40.0   \n",
       "3     NaN     NaN     NaN     NaN     NaN     NaN     NaN     NaN    32.0   \n",
       "4     NaN     NaN     NaN     NaN     NaN     NaN     NaN     NaN    32.0   \n",
       "\n",
       "   Var110  Var111  Var112     Var113  Var114  Var115  Var116  Var117  Var118  \\\n",
       "0     NaN     NaN   144.0 -1209960.0     NaN     NaN     NaN     NaN     NaN   \n",
       "1     NaN     NaN    72.0   417932.0     NaN     NaN     NaN     NaN     NaN   \n",
       "2     NaN     NaN    48.0  -124655.2     NaN     NaN     NaN     NaN     NaN   \n",
       "3     NaN     NaN    32.0   378473.6     NaN     NaN     NaN     NaN     NaN   \n",
       "4     NaN     NaN     8.0   142602.4     NaN     NaN     NaN     NaN     NaN   \n",
       "\n",
       "   Var119  Var120  Var121  Var122  Var123  Var124   Var125  Var126  Var127  \\\n",
       "0  1660.0     NaN     NaN     NaN    66.0     NaN      NaN     4.0     NaN   \n",
       "1  1025.0     NaN     NaN     NaN    66.0     NaN  24912.0    40.0     NaN   \n",
       "2   590.0     NaN     NaN     NaN    78.0     NaN   7218.0    36.0     NaN   \n",
       "3  1435.0     NaN     NaN     NaN    24.0     NaN    693.0     NaN     NaN   \n",
       "4   490.0     NaN     NaN     NaN    60.0     NaN    468.0   -28.0     NaN   \n",
       "\n",
       "   Var128  Var129  Var130  Var131  Var132     Var133     Var134  Var135  \\\n",
       "0     NaN     NaN     NaN     NaN     0.0   326915.0   604276.0     NaN   \n",
       "1     NaN     NaN     NaN     NaN     0.0  1934460.0   349568.0     NaN   \n",
       "2     NaN     NaN     NaN     NaN     0.0  3148410.0  1086210.0     NaN   \n",
       "3     NaN     NaN     NaN     NaN     8.0  7066700.0   650390.0     NaN   \n",
       "4     NaN     NaN     NaN     NaN     0.0  3794460.0   642816.0     NaN   \n",
       "\n",
       "   Var136  Var137  Var138  Var139  Var140  Var141  Var142  Var143  Var144  \\\n",
       "0     NaN     NaN     NaN     NaN     NaN     NaN     NaN     0.0     9.0   \n",
       "1     NaN     NaN     NaN     NaN   205.0     NaN     NaN     0.0    18.0   \n",
       "2     NaN     NaN     NaN     NaN   400.0     NaN     NaN     0.0    27.0   \n",
       "3     NaN     NaN     NaN     NaN     5.0     NaN     NaN     0.0     0.0   \n",
       "4     NaN     NaN     NaN     NaN   225.0     NaN     NaN     0.0     9.0   \n",
       "\n",
       "   Var145  Var146  Var147  Var148    Var149  Var150  Var151  Var152  \\\n",
       "0     NaN     NaN     NaN     NaN  389396.0     NaN     NaN     NaN   \n",
       "1     NaN     NaN     NaN     NaN     735.0     NaN     NaN     NaN   \n",
       "2     NaN     NaN     NaN     NaN       0.0     NaN     NaN     NaN   \n",
       "3     NaN     NaN     NaN     NaN       0.0     NaN     NaN     NaN   \n",
       "4     NaN     NaN     NaN     NaN  554414.0     NaN     NaN     NaN   \n",
       "\n",
       "       Var153  Var154  Var155  Var156  Var157  Var158  Var159  Var160  Var161  \\\n",
       "0   2313888.0     NaN     NaN     NaN     NaN     NaN     NaN    28.0     NaN   \n",
       "1   6502680.0     NaN     NaN     NaN     NaN     NaN     NaN    14.0     NaN   \n",
       "2  10569040.0     NaN     NaN     NaN     NaN     NaN     NaN    18.0     NaN   \n",
       "3   9676200.0     NaN     NaN     NaN     NaN     NaN     NaN   108.0     NaN   \n",
       "4  10535200.0     NaN     NaN     NaN     NaN     NaN     NaN    24.0     NaN   \n",
       "\n",
       "   Var162     Var163  Var164  Var165  Var166  Var167  Var168  Var169  Var170  \\\n",
       "0     NaN   599532.0     NaN     NaN     NaN     NaN     NaN     NaN     NaN   \n",
       "1     NaN   364182.0     NaN     NaN     NaN     NaN     NaN     NaN     NaN   \n",
       "2     NaN        0.0     NaN     NaN     NaN     NaN     NaN     NaN     NaN   \n",
       "3     NaN   253284.0     NaN     NaN     NaN     NaN     NaN     NaN     NaN   \n",
       "4     NaN  2851284.0     NaN     NaN     NaN     NaN     NaN     NaN     NaN   \n",
       "\n",
       "   Var171  Var172  Var173  Var174  Var175  Var176  Var177  Var178  Var179  \\\n",
       "0     NaN     NaN     0.0     NaN     NaN     NaN     NaN     NaN     NaN   \n",
       "1     NaN     NaN     0.0     NaN     NaN     NaN     NaN     NaN     NaN   \n",
       "2     NaN     NaN     0.0     NaN     NaN     NaN     NaN     NaN     NaN   \n",
       "3     NaN     NaN     0.0     NaN     NaN     NaN     NaN     NaN     NaN   \n",
       "4     NaN     NaN     0.0     NaN     NaN     NaN     NaN     NaN     NaN   \n",
       "\n",
       "   Var180  Var181  Var182  Var183  Var184  Var185  Var186  Var187  Var188  \\\n",
       "0     NaN     0.0     NaN     NaN     NaN     NaN     NaN     NaN     NaN   \n",
       "1     NaN     0.0     NaN     NaN     NaN     NaN     NaN     NaN     NaN   \n",
       "2     NaN     0.0     NaN     NaN     NaN     NaN     NaN     NaN     NaN   \n",
       "3     NaN     0.0     NaN     NaN     NaN     NaN     NaN     NaN     NaN   \n",
       "4     NaN     0.0     NaN     NaN     NaN     NaN     NaN     NaN     NaN   \n",
       "\n",
       "   Var189  Var190 Var191      Var192            Var193 Var194 Var195 Var196  \\\n",
       "0     NaN     NaN    NaN  NESt0G8EIb           AERks4l    NaN   taul   1K8T   \n",
       "1   276.0     NaN    NaN  P1WvyxLp3Z           2Knk1KF    NaN   taul   1K8T   \n",
       "2     NaN     NaN    NaN  FoxgUHSK8h  LrdZy8QqgUfkVShG    NaN   taul   1K8T   \n",
       "3     NaN     NaN    NaN  vNEvyxLp3Z              RO12    NaN   taul   1K8T   \n",
       "4     NaN     NaN    NaN  4e7gUH7IEC              RO12    NaN   taul   1K8T   \n",
       "\n",
       "  Var197   Var198      Var199   Var200 Var201 Var202 Var203 Var204   Var205  \\\n",
       "0   0LaQ  UaKK0yW  I1sFbv_0IT      NaN    NaN   EkHG   9_Y1   k13i     09_Q   \n",
       "1   YFAj  Bnunsla     o64y9zI  DlISMzi    NaN   JDd6   9_Y1   FbIm     VpdQ   \n",
       "2   TyGl  fhk21Ss  nQUveAzAF7      NaN    NaN   dnwD   9_Y1   mTeA     VpdQ   \n",
       "3   0Xwj  uoZk2Zj  LWyxgtXeJL      NaN    NaN   CwmB   F3hy   vzJD     VpdQ   \n",
       "4   vSNn  kugYdIL  ZIXKpoNpqq      NaN    NaN   625Z   9_Y1   m_h1  sJzTlal   \n",
       "\n",
       "  Var206                  Var207 Var208  Var209 Var210 Var211         Var212  \\\n",
       "0   IYzP  GjJ35utlTa_GNSvxxpb9ju   kIsH     NaN   uKAI   L84s     JBfYVit4g8   \n",
       "1   haYg              me75fM6ugJ   kIsH     NaN   uKAI   L84s  XfqtO3UdzaXh_   \n",
       "2   hAFG     7M47J5GA0pTYIFxg5uy   kIsH     NaN   uKAI   L84s  4kVnq_T26xq1p   \n",
       "3   IYzP              me75fM6ugJ   kIsH     NaN   uKAI   L84s        NhsEn4L   \n",
       "4   zm5i              me75fM6ugJ   kIsH     NaN   uKAI   L84s        NhsEn4L   \n",
       "\n",
       "  Var213   Var214 Var215   Var216 Var217 Var218 Var219   Var220   Var221  \\\n",
       "0    NaN      NaN    NaN  TDctq2l   KmRo   cJvF   FzaX  hLKtJ9p  Al6ZaUT   \n",
       "1    NaN  I_mbgcr    NaN  XTbqizz   qMoY   cJvF   FzaX  hN8KpA1     oslk   \n",
       "2    NaN      NaN    NaN  pMWBUmQ   qLXr   UYBR   FzaX  4UxGlow     zCkv   \n",
       "3    NaN      NaN    NaN  kZJtVhC   JC0e   cJvF   FzaX  ylCK5YS     oslk   \n",
       "4    NaN      NaN    NaN  NGZXfGp   064o   cJvF   FzaX  PYpzAu9     oslk   \n",
       "\n",
       "    Var222      Var223 Var224 Var225 Var226   Var227         Var228 Var229  \\\n",
       "0  vr93T2a  LM8l689qOp    NaN    NaN   fKCe  02N6s8f  xwM2aC7IdeMC0    NaN   \n",
       "1  6hQ9lNX  LM8l689qOp    NaN   ELof   xb3V     RAYp        55YFVY9   mj86   \n",
       "2  catzS2D  LM8l689qOp    NaN    NaN   FSa2     ZI9m  ib5G6X1eUxUn6   mj86   \n",
       "3  e4lqvY0  LM8l689qOp    NaN    NaN   xb3V     RAYp  F2FyR07IdsN7I    NaN   \n",
       "4  MAz3HNj  LM8l689qOp    NaN    NaN   WqMG     RAYp  F2FyR07IdsN7I    NaN   \n",
       "\n",
       "   Var230  label  \n",
       "0     NaN  False  \n",
       "1     NaN  False  \n",
       "2     NaN  False  \n",
       "3     NaN   True  \n",
       "4     NaN  False  "
      ]
     },
     "execution_count": 7,
     "metadata": {},
     "output_type": "execute_result"
    }
   ],
   "source": [
    "churn_data.head()"
   ]
  },
  {
   "cell_type": "code",
   "execution_count": 8,
   "metadata": {
    "ExecuteTime": {
     "end_time": "2019-11-14T09:49:52.006315Z",
     "start_time": "2019-11-14T09:49:52.003650Z"
    }
   },
   "outputs": [
    {
     "data": {
      "text/plain": [
       "(40000, 231)"
      ]
     },
     "execution_count": 8,
     "metadata": {},
     "output_type": "execute_result"
    }
   ],
   "source": [
    "churn_data.shape"
   ]
  },
  {
   "cell_type": "markdown",
   "metadata": {},
   "source": [
    "Первые 190 признаков - числовые, остальные 40 - категориальные."
   ]
  },
  {
   "cell_type": "markdown",
   "metadata": {},
   "source": [
    "## Подготовка данных"
   ]
  },
  {
   "cell_type": "markdown",
   "metadata": {},
   "source": [
    "### Отбор признаков по колчеству пропущенных значений"
   ]
  },
  {
   "cell_type": "markdown",
   "metadata": {},
   "source": [
    "Определим, есть ли в датафрейме полностью пустые столбцы. "
   ]
  },
  {
   "cell_type": "code",
   "execution_count": 9,
   "metadata": {
    "ExecuteTime": {
     "end_time": "2019-11-14T09:49:53.819582Z",
     "start_time": "2019-11-14T09:49:53.764962Z"
    }
   },
   "outputs": [
    {
     "name": "stdout",
     "output_type": "stream",
     "text": [
      "Полностью пустые признаки: \n",
      " ['Var8', 'Var15', 'Var20', 'Var31', 'Var32', 'Var39', 'Var42', 'Var48', 'Var52', 'Var55', 'Var79', 'Var141', 'Var167', 'Var169', 'Var175', 'Var185', 'Var209', 'Var230']\n"
     ]
    }
   ],
   "source": [
    "const_feature = churn_data.isna().sum(axis = 0) == len(churn_data)\n",
    "useless_features = const_feature[const_feature == True].index\n",
    "print('Полностью пустые признаки: \\n', useless_features.to_list())"
   ]
  },
  {
   "cell_type": "code",
   "execution_count": 10,
   "metadata": {
    "ExecuteTime": {
     "end_time": "2019-11-14T09:49:53.959972Z",
     "start_time": "2019-11-14T09:49:53.946856Z"
    }
   },
   "outputs": [
    {
     "name": "stdout",
     "output_type": "stream",
     "text": [
      "Количество числовых признаков: 174\n",
      "Количество категориальных признаков: 38\n"
     ]
    }
   ],
   "source": [
    "num_features_names = ['Var{}'.format(i) for i in range(1, 191) if 'Var{}'.format(i) not in useless_features]\n",
    "cat_features_names = ['Var{}'.format(i) for i in range(191, 231) if 'Var{}'.format(i) not in useless_features]\n",
    "\n",
    "print('Количество числовых признаков:', len(num_features_names))\n",
    "print('Количество категориальных признаков:', len(cat_features_names))"
   ]
  },
  {
   "cell_type": "code",
   "execution_count": 11,
   "metadata": {
    "ExecuteTime": {
     "end_time": "2019-11-14T09:49:54.191212Z",
     "start_time": "2019-11-14T09:49:54.117595Z"
    }
   },
   "outputs": [],
   "source": [
    "num_data = churn_data.loc[:, num_features_names]\n",
    "cat_data = churn_data.loc[:, cat_features_names]"
   ]
  },
  {
   "cell_type": "markdown",
   "metadata": {},
   "source": [
    "**Подберем порог отбрасывания числовых признаков по количеству пустых объектов**"
   ]
  },
  {
   "cell_type": "code",
   "execution_count": 12,
   "metadata": {
    "ExecuteTime": {
     "end_time": "2019-11-14T09:49:55.078380Z",
     "start_time": "2019-11-14T09:49:54.467601Z"
    }
   },
   "outputs": [
    {
     "data": {
      "image/png": "[encoded data removed]",
      "text/plain": [
       "<Figure size 720x360 with 1 Axes>"
      ]
     },
     "metadata": {
      "needs_background": "light"
     },
     "output_type": "display_data"
    }
   ],
   "source": [
    "feature_amount = []\n",
    "for threshold in range(0, 40000, 1000):\n",
    "    nan_counter = num_data.isna().sum(axis = 0)\n",
    "    f_amount = len(nan_counter[nan_counter < threshold])\n",
    "    feature_amount.append(f_amount)\n",
    "\n",
    "plt.figure(figsize = (10, 5))\n",
    "plt.plot(range(0, 40000, 1000), feature_amount)\n",
    "plt.title('Изменение количества числовых признаков в зависимости от фильтрующего порога')\n",
    "plt.xlabel('Пороговое количество nan объектов')\n",
    "plt.ylabel('Количество отобранных признаков')\n",
    "plt.show()"
   ]
  },
  {
   "cell_type": "code",
   "execution_count": 13,
   "metadata": {
    "ExecuteTime": {
     "end_time": "2019-11-14T09:49:55.085827Z",
     "start_time": "2019-11-14T09:49:55.079728Z"
    }
   },
   "outputs": [],
   "source": [
    "NUM_THRESHOLD = 25000"
   ]
  },
  {
   "cell_type": "code",
   "execution_count": 14,
   "metadata": {
    "ExecuteTime": {
     "end_time": "2019-11-14T09:49:55.197130Z",
     "start_time": "2019-11-14T09:49:55.087094Z"
    }
   },
   "outputs": [],
   "source": [
    "nan_count = num_data.isna().sum(axis = 0).to_frame(name = 'count')\n",
    "useful_num_featues = nan_count[nan_count['count'] < NUM_THRESHOLD].index\n",
    "\n",
    "num_data = num_data[useful_num_featues]"
   ]
  },
  {
   "cell_type": "code",
   "execution_count": 15,
   "metadata": {
    "ExecuteTime": {
     "end_time": "2019-11-14T09:49:55.217025Z",
     "start_time": "2019-11-14T09:49:55.209319Z"
    }
   },
   "outputs": [
    {
     "name": "stdout",
     "output_type": "stream",
     "text": [
      "Итоговое количество отобранных числовых признаков: 42\n"
     ]
    }
   ],
   "source": [
    "print('Итоговое количество отобранных числовых признаков:', num_data.shape[1])"
   ]
  },
  {
   "cell_type": "markdown",
   "metadata": {},
   "source": [
    "**Аналогично подберем порог для категориальных признаков**"
   ]
  },
  {
   "cell_type": "code",
   "execution_count": 16,
   "metadata": {
    "ExecuteTime": {
     "end_time": "2019-11-14T09:49:58.272856Z",
     "start_time": "2019-11-14T09:49:56.780596Z"
    }
   },
   "outputs": [
    {
     "data": {
      "image/png": "[encoded data removed]",
      "text/plain": [
       "<Figure size 720x360 with 1 Axes>"
      ]
     },
     "metadata": {
      "needs_background": "light"
     },
     "output_type": "display_data"
    }
   ],
   "source": [
    "feature_amount = []\n",
    "for threshold in range(0, 40000, 1000):\n",
    "    nan_counter = cat_data.isna().sum(axis = 0)\n",
    "    f_amount = len(nan_counter[nan_counter < threshold])\n",
    "    feature_amount.append(f_amount)\n",
    "\n",
    "plt.figure(figsize = (10, 5))\n",
    "plt.plot(range(0, 40000, 1000), feature_amount)\n",
    "plt.title('Изменение количества категориальных признаков в зависимости от фильтрующего порога')\n",
    "plt.xlabel('Пороговое количество not nan объектов')\n",
    "plt.ylabel('Количество отобранных признаков')\n",
    "plt.show()"
   ]
  },
  {
   "cell_type": "markdown",
   "metadata": {},
   "source": [
    "Обработаем все категориальные признаки"
   ]
  },
  {
   "cell_type": "markdown",
   "metadata": {},
   "source": [
    "### Разбиение данных"
   ]
  },
  {
   "cell_type": "code",
   "execution_count": 17,
   "metadata": {
    "ExecuteTime": {
     "end_time": "2019-11-14T09:49:58.326671Z",
     "start_time": "2019-11-14T09:49:58.274288Z"
    }
   },
   "outputs": [
    {
     "data": {
      "text/html": [
       "<div>\n",
       "<style scoped>\n",
       "    .dataframe tbody tr th:only-of-type {\n",
       "        vertical-align: middle;\n",
       "    }\n",
       "\n",
       "    .dataframe tbody tr th {\n",
       "        vertical-align: top;\n",
       "    }\n",
       "\n",
       "    .dataframe thead th {\n",
       "        text-align: right;\n",
       "    }\n",
       "</style>\n",
       "<table border=\"1\" class=\"dataframe\">\n",
       "  <thead>\n",
       "    <tr style=\"text-align: right;\">\n",
       "      <th></th>\n",
       "      <th>Var6</th>\n",
       "      <th>Var7</th>\n",
       "      <th>Var13</th>\n",
       "      <th>Var21</th>\n",
       "      <th>Var22</th>\n",
       "      <th>Var24</th>\n",
       "      <th>Var25</th>\n",
       "      <th>Var28</th>\n",
       "      <th>Var35</th>\n",
       "      <th>Var38</th>\n",
       "      <th>Var44</th>\n",
       "      <th>Var57</th>\n",
       "      <th>Var65</th>\n",
       "      <th>Var72</th>\n",
       "      <th>Var73</th>\n",
       "      <th>Var74</th>\n",
       "      <th>Var76</th>\n",
       "      <th>Var78</th>\n",
       "      <th>Var81</th>\n",
       "      <th>Var83</th>\n",
       "      <th>Var85</th>\n",
       "      <th>Var94</th>\n",
       "      <th>Var109</th>\n",
       "      <th>Var112</th>\n",
       "      <th>Var113</th>\n",
       "      <th>Var119</th>\n",
       "      <th>Var123</th>\n",
       "      <th>Var125</th>\n",
       "      <th>Var126</th>\n",
       "      <th>Var132</th>\n",
       "      <th>Var133</th>\n",
       "      <th>Var134</th>\n",
       "      <th>Var140</th>\n",
       "      <th>Var143</th>\n",
       "      <th>Var144</th>\n",
       "      <th>Var149</th>\n",
       "      <th>Var153</th>\n",
       "      <th>Var160</th>\n",
       "      <th>Var163</th>\n",
       "      <th>Var173</th>\n",
       "      <th>Var181</th>\n",
       "      <th>Var189</th>\n",
       "      <th>Var191</th>\n",
       "      <th>Var192</th>\n",
       "      <th>Var193</th>\n",
       "      <th>Var194</th>\n",
       "      <th>Var195</th>\n",
       "      <th>Var196</th>\n",
       "      <th>Var197</th>\n",
       "      <th>Var198</th>\n",
       "      <th>Var199</th>\n",
       "      <th>Var200</th>\n",
       "      <th>Var201</th>\n",
       "      <th>Var202</th>\n",
       "      <th>Var203</th>\n",
       "      <th>Var204</th>\n",
       "      <th>Var205</th>\n",
       "      <th>Var206</th>\n",
       "      <th>Var207</th>\n",
       "      <th>Var208</th>\n",
       "      <th>Var210</th>\n",
       "      <th>Var211</th>\n",
       "      <th>Var212</th>\n",
       "      <th>Var213</th>\n",
       "      <th>Var214</th>\n",
       "      <th>Var215</th>\n",
       "      <th>Var216</th>\n",
       "      <th>Var217</th>\n",
       "      <th>Var218</th>\n",
       "      <th>Var219</th>\n",
       "      <th>Var220</th>\n",
       "      <th>Var221</th>\n",
       "      <th>Var222</th>\n",
       "      <th>Var223</th>\n",
       "      <th>Var224</th>\n",
       "      <th>Var225</th>\n",
       "      <th>Var226</th>\n",
       "      <th>Var227</th>\n",
       "      <th>Var228</th>\n",
       "      <th>Var229</th>\n",
       "      <th>label</th>\n",
       "    </tr>\n",
       "  </thead>\n",
       "  <tbody>\n",
       "    <tr>\n",
       "      <th>0</th>\n",
       "      <td>3052.0</td>\n",
       "      <td>NaN</td>\n",
       "      <td>NaN</td>\n",
       "      <td>480.0</td>\n",
       "      <td>600.0</td>\n",
       "      <td>20.0</td>\n",
       "      <td>480.0</td>\n",
       "      <td>200.00</td>\n",
       "      <td>0.0</td>\n",
       "      <td>82752.0</td>\n",
       "      <td>0.0</td>\n",
       "      <td>2.907926</td>\n",
       "      <td>NaN</td>\n",
       "      <td>NaN</td>\n",
       "      <td>34</td>\n",
       "      <td>NaN</td>\n",
       "      <td>716008.0</td>\n",
       "      <td>0.0</td>\n",
       "      <td>14599.92</td>\n",
       "      <td>5.0</td>\n",
       "      <td>32.0</td>\n",
       "      <td>NaN</td>\n",
       "      <td>144.0</td>\n",
       "      <td>144.0</td>\n",
       "      <td>-1209960.0</td>\n",
       "      <td>1660.0</td>\n",
       "      <td>66.0</td>\n",
       "      <td>NaN</td>\n",
       "      <td>4.0</td>\n",
       "      <td>0.0</td>\n",
       "      <td>326915.0</td>\n",
       "      <td>604276.0</td>\n",
       "      <td>NaN</td>\n",
       "      <td>0.0</td>\n",
       "      <td>9.0</td>\n",
       "      <td>389396.0</td>\n",
       "      <td>2313888.0</td>\n",
       "      <td>28.0</td>\n",
       "      <td>599532.0</td>\n",
       "      <td>0.0</td>\n",
       "      <td>0.0</td>\n",
       "      <td>NaN</td>\n",
       "      <td>NaN</td>\n",
       "      <td>NESt0G8EIb</td>\n",
       "      <td>AERks4l</td>\n",
       "      <td>NaN</td>\n",
       "      <td>taul</td>\n",
       "      <td>1K8T</td>\n",
       "      <td>0LaQ</td>\n",
       "      <td>UaKK0yW</td>\n",
       "      <td>I1sFbv_0IT</td>\n",
       "      <td>NaN</td>\n",
       "      <td>NaN</td>\n",
       "      <td>EkHG</td>\n",
       "      <td>9_Y1</td>\n",
       "      <td>k13i</td>\n",
       "      <td>09_Q</td>\n",
       "      <td>IYzP</td>\n",
       "      <td>GjJ35utlTa_GNSvxxpb9ju</td>\n",
       "      <td>kIsH</td>\n",
       "      <td>uKAI</td>\n",
       "      <td>L84s</td>\n",
       "      <td>JBfYVit4g8</td>\n",
       "      <td>NaN</td>\n",
       "      <td>NaN</td>\n",
       "      <td>NaN</td>\n",
       "      <td>TDctq2l</td>\n",
       "      <td>KmRo</td>\n",
       "      <td>cJvF</td>\n",
       "      <td>FzaX</td>\n",
       "      <td>hLKtJ9p</td>\n",
       "      <td>Al6ZaUT</td>\n",
       "      <td>vr93T2a</td>\n",
       "      <td>LM8l689qOp</td>\n",
       "      <td>NaN</td>\n",
       "      <td>NaN</td>\n",
       "      <td>fKCe</td>\n",
       "      <td>02N6s8f</td>\n",
       "      <td>xwM2aC7IdeMC0</td>\n",
       "      <td>NaN</td>\n",
       "      <td>False</td>\n",
       "    </tr>\n",
       "    <tr>\n",
       "      <th>1</th>\n",
       "      <td>1813.0</td>\n",
       "      <td>7.0</td>\n",
       "      <td>636.0</td>\n",
       "      <td>212.0</td>\n",
       "      <td>265.0</td>\n",
       "      <td>2.0</td>\n",
       "      <td>128.0</td>\n",
       "      <td>166.56</td>\n",
       "      <td>0.0</td>\n",
       "      <td>2706120.0</td>\n",
       "      <td>0.0</td>\n",
       "      <td>5.870327</td>\n",
       "      <td>27.0</td>\n",
       "      <td>3.0</td>\n",
       "      <td>128</td>\n",
       "      <td>0.0</td>\n",
       "      <td>1661128.0</td>\n",
       "      <td>0.0</td>\n",
       "      <td>67529.09</td>\n",
       "      <td>25.0</td>\n",
       "      <td>10.0</td>\n",
       "      <td>32289.0</td>\n",
       "      <td>80.0</td>\n",
       "      <td>72.0</td>\n",
       "      <td>417932.0</td>\n",
       "      <td>1025.0</td>\n",
       "      <td>66.0</td>\n",
       "      <td>24912.0</td>\n",
       "      <td>40.0</td>\n",
       "      <td>0.0</td>\n",
       "      <td>1934460.0</td>\n",
       "      <td>349568.0</td>\n",
       "      <td>205.0</td>\n",
       "      <td>0.0</td>\n",
       "      <td>18.0</td>\n",
       "      <td>735.0</td>\n",
       "      <td>6502680.0</td>\n",
       "      <td>14.0</td>\n",
       "      <td>364182.0</td>\n",
       "      <td>0.0</td>\n",
       "      <td>0.0</td>\n",
       "      <td>276.0</td>\n",
       "      <td>NaN</td>\n",
       "      <td>P1WvyxLp3Z</td>\n",
       "      <td>2Knk1KF</td>\n",
       "      <td>NaN</td>\n",
       "      <td>taul</td>\n",
       "      <td>1K8T</td>\n",
       "      <td>YFAj</td>\n",
       "      <td>Bnunsla</td>\n",
       "      <td>o64y9zI</td>\n",
       "      <td>DlISMzi</td>\n",
       "      <td>NaN</td>\n",
       "      <td>JDd6</td>\n",
       "      <td>9_Y1</td>\n",
       "      <td>FbIm</td>\n",
       "      <td>VpdQ</td>\n",
       "      <td>haYg</td>\n",
       "      <td>me75fM6ugJ</td>\n",
       "      <td>kIsH</td>\n",
       "      <td>uKAI</td>\n",
       "      <td>L84s</td>\n",
       "      <td>XfqtO3UdzaXh_</td>\n",
       "      <td>NaN</td>\n",
       "      <td>I_mbgcr</td>\n",
       "      <td>NaN</td>\n",
       "      <td>XTbqizz</td>\n",
       "      <td>qMoY</td>\n",
       "      <td>cJvF</td>\n",
       "      <td>FzaX</td>\n",
       "      <td>hN8KpA1</td>\n",
       "      <td>oslk</td>\n",
       "      <td>6hQ9lNX</td>\n",
       "      <td>LM8l689qOp</td>\n",
       "      <td>NaN</td>\n",
       "      <td>ELof</td>\n",
       "      <td>xb3V</td>\n",
       "      <td>RAYp</td>\n",
       "      <td>55YFVY9</td>\n",
       "      <td>mj86</td>\n",
       "      <td>False</td>\n",
       "    </tr>\n",
       "    <tr>\n",
       "      <th>2</th>\n",
       "      <td>1953.0</td>\n",
       "      <td>7.0</td>\n",
       "      <td>448.0</td>\n",
       "      <td>176.0</td>\n",
       "      <td>220.0</td>\n",
       "      <td>0.0</td>\n",
       "      <td>72.0</td>\n",
       "      <td>311.76</td>\n",
       "      <td>0.0</td>\n",
       "      <td>4698780.0</td>\n",
       "      <td>0.0</td>\n",
       "      <td>5.981628</td>\n",
       "      <td>18.0</td>\n",
       "      <td>3.0</td>\n",
       "      <td>166</td>\n",
       "      <td>245.0</td>\n",
       "      <td>3025152.0</td>\n",
       "      <td>0.0</td>\n",
       "      <td>85266.00</td>\n",
       "      <td>35.0</td>\n",
       "      <td>0.0</td>\n",
       "      <td>53388.0</td>\n",
       "      <td>40.0</td>\n",
       "      <td>48.0</td>\n",
       "      <td>-124655.2</td>\n",
       "      <td>590.0</td>\n",
       "      <td>78.0</td>\n",
       "      <td>7218.0</td>\n",
       "      <td>36.0</td>\n",
       "      <td>0.0</td>\n",
       "      <td>3148410.0</td>\n",
       "      <td>1086210.0</td>\n",
       "      <td>400.0</td>\n",
       "      <td>0.0</td>\n",
       "      <td>27.0</td>\n",
       "      <td>0.0</td>\n",
       "      <td>10569040.0</td>\n",
       "      <td>18.0</td>\n",
       "      <td>0.0</td>\n",
       "      <td>0.0</td>\n",
       "      <td>0.0</td>\n",
       "      <td>NaN</td>\n",
       "      <td>NaN</td>\n",
       "      <td>FoxgUHSK8h</td>\n",
       "      <td>LrdZy8QqgUfkVShG</td>\n",
       "      <td>NaN</td>\n",
       "      <td>taul</td>\n",
       "      <td>1K8T</td>\n",
       "      <td>TyGl</td>\n",
       "      <td>fhk21Ss</td>\n",
       "      <td>nQUveAzAF7</td>\n",
       "      <td>NaN</td>\n",
       "      <td>NaN</td>\n",
       "      <td>dnwD</td>\n",
       "      <td>9_Y1</td>\n",
       "      <td>mTeA</td>\n",
       "      <td>VpdQ</td>\n",
       "      <td>hAFG</td>\n",
       "      <td>7M47J5GA0pTYIFxg5uy</td>\n",
       "      <td>kIsH</td>\n",
       "      <td>uKAI</td>\n",
       "      <td>L84s</td>\n",
       "      <td>4kVnq_T26xq1p</td>\n",
       "      <td>NaN</td>\n",
       "      <td>NaN</td>\n",
       "      <td>NaN</td>\n",
       "      <td>pMWBUmQ</td>\n",
       "      <td>qLXr</td>\n",
       "      <td>UYBR</td>\n",
       "      <td>FzaX</td>\n",
       "      <td>4UxGlow</td>\n",
       "      <td>zCkv</td>\n",
       "      <td>catzS2D</td>\n",
       "      <td>LM8l689qOp</td>\n",
       "      <td>NaN</td>\n",
       "      <td>NaN</td>\n",
       "      <td>FSa2</td>\n",
       "      <td>ZI9m</td>\n",
       "      <td>ib5G6X1eUxUn6</td>\n",
       "      <td>mj86</td>\n",
       "      <td>False</td>\n",
       "    </tr>\n",
       "    <tr>\n",
       "      <th>3</th>\n",
       "      <td>1533.0</td>\n",
       "      <td>7.0</td>\n",
       "      <td>4.0</td>\n",
       "      <td>332.0</td>\n",
       "      <td>415.0</td>\n",
       "      <td>0.0</td>\n",
       "      <td>144.0</td>\n",
       "      <td>220.08</td>\n",
       "      <td>5.0</td>\n",
       "      <td>864384.0</td>\n",
       "      <td>0.0</td>\n",
       "      <td>5.108097</td>\n",
       "      <td>9.0</td>\n",
       "      <td>NaN</td>\n",
       "      <td>30</td>\n",
       "      <td>0.0</td>\n",
       "      <td>2642240.0</td>\n",
       "      <td>0.0</td>\n",
       "      <td>74107.20</td>\n",
       "      <td>10.0</td>\n",
       "      <td>2.0</td>\n",
       "      <td>NaN</td>\n",
       "      <td>32.0</td>\n",
       "      <td>32.0</td>\n",
       "      <td>378473.6</td>\n",
       "      <td>1435.0</td>\n",
       "      <td>24.0</td>\n",
       "      <td>693.0</td>\n",
       "      <td>NaN</td>\n",
       "      <td>8.0</td>\n",
       "      <td>7066700.0</td>\n",
       "      <td>650390.0</td>\n",
       "      <td>5.0</td>\n",
       "      <td>0.0</td>\n",
       "      <td>0.0</td>\n",
       "      <td>0.0</td>\n",
       "      <td>9676200.0</td>\n",
       "      <td>108.0</td>\n",
       "      <td>253284.0</td>\n",
       "      <td>0.0</td>\n",
       "      <td>0.0</td>\n",
       "      <td>NaN</td>\n",
       "      <td>NaN</td>\n",
       "      <td>vNEvyxLp3Z</td>\n",
       "      <td>RO12</td>\n",
       "      <td>NaN</td>\n",
       "      <td>taul</td>\n",
       "      <td>1K8T</td>\n",
       "      <td>0Xwj</td>\n",
       "      <td>uoZk2Zj</td>\n",
       "      <td>LWyxgtXeJL</td>\n",
       "      <td>NaN</td>\n",
       "      <td>NaN</td>\n",
       "      <td>CwmB</td>\n",
       "      <td>F3hy</td>\n",
       "      <td>vzJD</td>\n",
       "      <td>VpdQ</td>\n",
       "      <td>IYzP</td>\n",
       "      <td>me75fM6ugJ</td>\n",
       "      <td>kIsH</td>\n",
       "      <td>uKAI</td>\n",
       "      <td>L84s</td>\n",
       "      <td>NhsEn4L</td>\n",
       "      <td>NaN</td>\n",
       "      <td>NaN</td>\n",
       "      <td>NaN</td>\n",
       "      <td>kZJtVhC</td>\n",
       "      <td>JC0e</td>\n",
       "      <td>cJvF</td>\n",
       "      <td>FzaX</td>\n",
       "      <td>ylCK5YS</td>\n",
       "      <td>oslk</td>\n",
       "      <td>e4lqvY0</td>\n",
       "      <td>LM8l689qOp</td>\n",
       "      <td>NaN</td>\n",
       "      <td>NaN</td>\n",
       "      <td>xb3V</td>\n",
       "      <td>RAYp</td>\n",
       "      <td>F2FyR07IdsN7I</td>\n",
       "      <td>NaN</td>\n",
       "      <td>True</td>\n",
       "    </tr>\n",
       "    <tr>\n",
       "      <th>4</th>\n",
       "      <td>686.0</td>\n",
       "      <td>7.0</td>\n",
       "      <td>0.0</td>\n",
       "      <td>160.0</td>\n",
       "      <td>200.0</td>\n",
       "      <td>2.0</td>\n",
       "      <td>48.0</td>\n",
       "      <td>278.00</td>\n",
       "      <td>0.0</td>\n",
       "      <td>4364880.0</td>\n",
       "      <td>0.0</td>\n",
       "      <td>0.650716</td>\n",
       "      <td>9.0</td>\n",
       "      <td>3.0</td>\n",
       "      <td>32</td>\n",
       "      <td>0.0</td>\n",
       "      <td>1440.0</td>\n",
       "      <td>0.0</td>\n",
       "      <td>171072.90</td>\n",
       "      <td>25.0</td>\n",
       "      <td>12.0</td>\n",
       "      <td>106455.0</td>\n",
       "      <td>32.0</td>\n",
       "      <td>8.0</td>\n",
       "      <td>142602.4</td>\n",
       "      <td>490.0</td>\n",
       "      <td>60.0</td>\n",
       "      <td>468.0</td>\n",
       "      <td>-28.0</td>\n",
       "      <td>0.0</td>\n",
       "      <td>3794460.0</td>\n",
       "      <td>642816.0</td>\n",
       "      <td>225.0</td>\n",
       "      <td>0.0</td>\n",
       "      <td>9.0</td>\n",
       "      <td>554414.0</td>\n",
       "      <td>10535200.0</td>\n",
       "      <td>24.0</td>\n",
       "      <td>2851284.0</td>\n",
       "      <td>0.0</td>\n",
       "      <td>0.0</td>\n",
       "      <td>NaN</td>\n",
       "      <td>NaN</td>\n",
       "      <td>4e7gUH7IEC</td>\n",
       "      <td>RO12</td>\n",
       "      <td>NaN</td>\n",
       "      <td>taul</td>\n",
       "      <td>1K8T</td>\n",
       "      <td>vSNn</td>\n",
       "      <td>kugYdIL</td>\n",
       "      <td>ZIXKpoNpqq</td>\n",
       "      <td>NaN</td>\n",
       "      <td>NaN</td>\n",
       "      <td>625Z</td>\n",
       "      <td>9_Y1</td>\n",
       "      <td>m_h1</td>\n",
       "      <td>sJzTlal</td>\n",
       "      <td>zm5i</td>\n",
       "      <td>me75fM6ugJ</td>\n",
       "      <td>kIsH</td>\n",
       "      <td>uKAI</td>\n",
       "      <td>L84s</td>\n",
       "      <td>NhsEn4L</td>\n",
       "      <td>NaN</td>\n",
       "      <td>NaN</td>\n",
       "      <td>NaN</td>\n",
       "      <td>NGZXfGp</td>\n",
       "      <td>064o</td>\n",
       "      <td>cJvF</td>\n",
       "      <td>FzaX</td>\n",
       "      <td>PYpzAu9</td>\n",
       "      <td>oslk</td>\n",
       "      <td>MAz3HNj</td>\n",
       "      <td>LM8l689qOp</td>\n",
       "      <td>NaN</td>\n",
       "      <td>NaN</td>\n",
       "      <td>WqMG</td>\n",
       "      <td>RAYp</td>\n",
       "      <td>F2FyR07IdsN7I</td>\n",
       "      <td>NaN</td>\n",
       "      <td>False</td>\n",
       "    </tr>\n",
       "  </tbody>\n",
       "</table>\n",
       "</div>"
      ],
      "text/plain": [
       "     Var6  Var7  Var13  Var21  Var22  Var24  Var25   Var28  Var35      Var38  \\\n",
       "0  3052.0   NaN    NaN  480.0  600.0   20.0  480.0  200.00    0.0    82752.0   \n",
       "1  1813.0   7.0  636.0  212.0  265.0    2.0  128.0  166.56    0.0  2706120.0   \n",
       "2  1953.0   7.0  448.0  176.0  220.0    0.0   72.0  311.76    0.0  4698780.0   \n",
       "3  1533.0   7.0    4.0  332.0  415.0    0.0  144.0  220.08    5.0   864384.0   \n",
       "4   686.0   7.0    0.0  160.0  200.0    2.0   48.0  278.00    0.0  4364880.0   \n",
       "\n",
       "   Var44     Var57  Var65  Var72  Var73  Var74      Var76  Var78      Var81  \\\n",
       "0    0.0  2.907926    NaN    NaN     34    NaN   716008.0    0.0   14599.92   \n",
       "1    0.0  5.870327   27.0    3.0    128    0.0  1661128.0    0.0   67529.09   \n",
       "2    0.0  5.981628   18.0    3.0    166  245.0  3025152.0    0.0   85266.00   \n",
       "3    0.0  5.108097    9.0    NaN     30    0.0  2642240.0    0.0   74107.20   \n",
       "4    0.0  0.650716    9.0    3.0     32    0.0     1440.0    0.0  171072.90   \n",
       "\n",
       "   Var83  Var85     Var94  Var109  Var112     Var113  Var119  Var123   Var125  \\\n",
       "0    5.0   32.0       NaN   144.0   144.0 -1209960.0  1660.0    66.0      NaN   \n",
       "1   25.0   10.0   32289.0    80.0    72.0   417932.0  1025.0    66.0  24912.0   \n",
       "2   35.0    0.0   53388.0    40.0    48.0  -124655.2   590.0    78.0   7218.0   \n",
       "3   10.0    2.0       NaN    32.0    32.0   378473.6  1435.0    24.0    693.0   \n",
       "4   25.0   12.0  106455.0    32.0     8.0   142602.4   490.0    60.0    468.0   \n",
       "\n",
       "   Var126  Var132     Var133     Var134  Var140  Var143  Var144    Var149  \\\n",
       "0     4.0     0.0   326915.0   604276.0     NaN     0.0     9.0  389396.0   \n",
       "1    40.0     0.0  1934460.0   349568.0   205.0     0.0    18.0     735.0   \n",
       "2    36.0     0.0  3148410.0  1086210.0   400.0     0.0    27.0       0.0   \n",
       "3     NaN     8.0  7066700.0   650390.0     5.0     0.0     0.0       0.0   \n",
       "4   -28.0     0.0  3794460.0   642816.0   225.0     0.0     9.0  554414.0   \n",
       "\n",
       "       Var153  Var160     Var163  Var173  Var181  Var189 Var191      Var192  \\\n",
       "0   2313888.0    28.0   599532.0     0.0     0.0     NaN    NaN  NESt0G8EIb   \n",
       "1   6502680.0    14.0   364182.0     0.0     0.0   276.0    NaN  P1WvyxLp3Z   \n",
       "2  10569040.0    18.0        0.0     0.0     0.0     NaN    NaN  FoxgUHSK8h   \n",
       "3   9676200.0   108.0   253284.0     0.0     0.0     NaN    NaN  vNEvyxLp3Z   \n",
       "4  10535200.0    24.0  2851284.0     0.0     0.0     NaN    NaN  4e7gUH7IEC   \n",
       "\n",
       "             Var193 Var194 Var195 Var196 Var197   Var198      Var199   Var200  \\\n",
       "0           AERks4l    NaN   taul   1K8T   0LaQ  UaKK0yW  I1sFbv_0IT      NaN   \n",
       "1           2Knk1KF    NaN   taul   1K8T   YFAj  Bnunsla     o64y9zI  DlISMzi   \n",
       "2  LrdZy8QqgUfkVShG    NaN   taul   1K8T   TyGl  fhk21Ss  nQUveAzAF7      NaN   \n",
       "3              RO12    NaN   taul   1K8T   0Xwj  uoZk2Zj  LWyxgtXeJL      NaN   \n",
       "4              RO12    NaN   taul   1K8T   vSNn  kugYdIL  ZIXKpoNpqq      NaN   \n",
       "\n",
       "  Var201 Var202 Var203 Var204   Var205 Var206                  Var207 Var208  \\\n",
       "0    NaN   EkHG   9_Y1   k13i     09_Q   IYzP  GjJ35utlTa_GNSvxxpb9ju   kIsH   \n",
       "1    NaN   JDd6   9_Y1   FbIm     VpdQ   haYg              me75fM6ugJ   kIsH   \n",
       "2    NaN   dnwD   9_Y1   mTeA     VpdQ   hAFG     7M47J5GA0pTYIFxg5uy   kIsH   \n",
       "3    NaN   CwmB   F3hy   vzJD     VpdQ   IYzP              me75fM6ugJ   kIsH   \n",
       "4    NaN   625Z   9_Y1   m_h1  sJzTlal   zm5i              me75fM6ugJ   kIsH   \n",
       "\n",
       "  Var210 Var211         Var212 Var213   Var214 Var215   Var216 Var217 Var218  \\\n",
       "0   uKAI   L84s     JBfYVit4g8    NaN      NaN    NaN  TDctq2l   KmRo   cJvF   \n",
       "1   uKAI   L84s  XfqtO3UdzaXh_    NaN  I_mbgcr    NaN  XTbqizz   qMoY   cJvF   \n",
       "2   uKAI   L84s  4kVnq_T26xq1p    NaN      NaN    NaN  pMWBUmQ   qLXr   UYBR   \n",
       "3   uKAI   L84s        NhsEn4L    NaN      NaN    NaN  kZJtVhC   JC0e   cJvF   \n",
       "4   uKAI   L84s        NhsEn4L    NaN      NaN    NaN  NGZXfGp   064o   cJvF   \n",
       "\n",
       "  Var219   Var220   Var221   Var222      Var223 Var224 Var225 Var226   Var227  \\\n",
       "0   FzaX  hLKtJ9p  Al6ZaUT  vr93T2a  LM8l689qOp    NaN    NaN   fKCe  02N6s8f   \n",
       "1   FzaX  hN8KpA1     oslk  6hQ9lNX  LM8l689qOp    NaN   ELof   xb3V     RAYp   \n",
       "2   FzaX  4UxGlow     zCkv  catzS2D  LM8l689qOp    NaN    NaN   FSa2     ZI9m   \n",
       "3   FzaX  ylCK5YS     oslk  e4lqvY0  LM8l689qOp    NaN    NaN   xb3V     RAYp   \n",
       "4   FzaX  PYpzAu9     oslk  MAz3HNj  LM8l689qOp    NaN    NaN   WqMG     RAYp   \n",
       "\n",
       "          Var228 Var229  label  \n",
       "0  xwM2aC7IdeMC0    NaN  False  \n",
       "1        55YFVY9   mj86  False  \n",
       "2  ib5G6X1eUxUn6   mj86  False  \n",
       "3  F2FyR07IdsN7I    NaN   True  \n",
       "4  F2FyR07IdsN7I    NaN  False  "
      ]
     },
     "execution_count": 17,
     "metadata": {},
     "output_type": "execute_result"
    }
   ],
   "source": [
    "full_data = pd.concat([num_data, cat_data, churn_data['label']], axis = 1)\n",
    "full_data.head()"
   ]
  },
  {
   "cell_type": "code",
   "execution_count": 18,
   "metadata": {
    "ExecuteTime": {
     "end_time": "2019-11-14T09:49:58.359823Z",
     "start_time": "2019-11-14T09:49:58.328300Z"
    }
   },
   "outputs": [
    {
     "name": "stdout",
     "output_type": "stream",
     "text": [
      "Число сырых числовых признаков 42\n",
      "Число сырых категориальных признаков 38\n"
     ]
    }
   ],
   "source": [
    "num_col_names = num_data.columns\n",
    "cat_col_names = cat_data.columns\n",
    "\n",
    "print('Число сырых числовых признаков', len(num_col_names))\n",
    "print('Число сырых категориальных признаков', len(cat_col_names))"
   ]
  },
  {
   "cell_type": "code",
   "execution_count": 19,
   "metadata": {
    "ExecuteTime": {
     "end_time": "2019-11-14T09:49:58.595102Z",
     "start_time": "2019-11-14T09:49:58.361005Z"
    }
   },
   "outputs": [],
   "source": [
    "X = full_data.drop(columns = ['label'])\n",
    "y = full_data['label']\n",
    "\n",
    "X_train_raw, X_test_raw, y_train, y_test = train_test_split(X, y, stratify = y, test_size = 0.2, random_state = SEED)\n",
    "\n",
    "y_train = y_train.values\n",
    "y_test = y_test.values"
   ]
  },
  {
   "cell_type": "markdown",
   "metadata": {},
   "source": [
    "### Подбор  методов запонения пропусков в данных"
   ]
  },
  {
   "cell_type": "markdown",
   "metadata": {},
   "source": [
    "Обзор стратегий заполнения: \n",
    "* https://towardsdatascience.com/6-different-ways-to-compensate-for-missing-values-data-imputation-with-examples-6022d9ca0779\n",
    "* https://towardsdatascience.com/handling-missing-values-in-machine-learning-part-2-222154b4b58e"
   ]
  },
  {
   "cell_type": "markdown",
   "metadata": {},
   "source": [
    "Подходы для числовых данных:\n",
    "* Simple imputer from sklearn\n",
    "* [MICE (Multivariate imputation by chained equations)](https://impyute.readthedocs.io/en/latest/index.html)\n",
    "* [DataWig](https://datawig.readthedocs.io/en/latest/source/userguide.html#step-by-step-examples) - *Слишком долго*\n",
    "* [kNN](https://impyute.readthedocs.io/en/master/api/cross_sectional_imputation.html#impyute.imputation.cs.fast_knn)\n",
    "\n",
    "Подходы для категориальных данных:\n",
    "* [kNN](https://impyute.readthedocs.io/en/master/api/cross_sectional_imputation.html#impyute.imputation.cs.fast_knn)\n",
    "* [Simple imputer with most frequent value](https://github.com/scikit-learn-contrib/sklearn-pandas#categoricalimputer)\n",
    "* fillna + дополнительный признак"
   ]
  },
  {
   "cell_type": "markdown",
   "metadata": {},
   "source": [
    "#### Числовые данные"
   ]
  },
  {
   "cell_type": "markdown",
   "metadata": {},
   "source": [
    "**Simple mean imputer**"
   ]
  },
  {
   "cell_type": "code",
   "execution_count": 20,
   "metadata": {
    "ExecuteTime": {
     "end_time": "2019-11-14T09:49:59.763263Z",
     "start_time": "2019-11-14T09:49:59.701906Z"
    }
   },
   "outputs": [],
   "source": [
    "imp = SimpleImputer(missing_values = np.nan, strategy = 'mean')\n",
    "X_train_num_mean = imp.fit_transform(X_train_raw[num_col_names])\n",
    "X_test_num_mean = imp.transform(X_test_raw[num_col_names])\n",
    "\n",
    "X_train_num_mean = pd.DataFrame(X_train_num_mean, columns = num_col_names)\n",
    "X_test_num_mean = pd.DataFrame(X_test_num_mean, columns = num_col_names)"
   ]
  },
  {
   "cell_type": "code",
   "execution_count": 21,
   "metadata": {
    "ExecuteTime": {
     "end_time": "2019-11-14T09:50:00.128844Z",
     "start_time": "2019-11-14T09:50:00.117010Z"
    }
   },
   "outputs": [
    {
     "name": "stdout",
     "output_type": "stream",
     "text": [
      "(32000, 42)\n",
      "(8000, 42)\n"
     ]
    }
   ],
   "source": [
    "print(X_train_num_mean.shape)\n",
    "print(X_test_num_mean.shape)"
   ]
  },
  {
   "cell_type": "code",
   "execution_count": 22,
   "metadata": {
    "ExecuteTime": {
     "end_time": "2019-11-14T09:50:01.475637Z",
     "start_time": "2019-11-14T09:50:01.469830Z"
    }
   },
   "outputs": [
    {
     "name": "stdout",
     "output_type": "stream",
     "text": [
      "0\n",
      "0\n"
     ]
    }
   ],
   "source": [
    "print(X_train_num_mean.isnull().sum().sum())\n",
    "print(X_test_num_mean.isnull().sum().sum())"
   ]
  },
  {
   "cell_type": "markdown",
   "metadata": {},
   "source": [
    "**MICE**"
   ]
  },
  {
   "cell_type": "code",
   "execution_count": 23,
   "metadata": {
    "ExecuteTime": {
     "end_time": "2019-11-14T09:50:01.902774Z",
     "start_time": "2019-11-14T09:50:01.894609Z"
    }
   },
   "outputs": [],
   "source": [
    "# How MICE works: https://www.ncbi.nlm.nih.gov/pmc/articles/PMC3074241/\n",
    "\n",
    "#Alternative realization in statsmodels\n",
    "# https://www.statsmodels.org/dev/generated/statsmodels.imputation.mice.MICE.html\n",
    "# MICE statsmodel using examples: https://programtalk.com/vs2/python/12423/statsmodels/statsmodels/imputation/tests/test_mice.py/"
   ]
  },
  {
   "cell_type": "code",
   "execution_count": 24,
   "metadata": {
    "ExecuteTime": {
     "end_time": "2019-11-14T09:50:02.096762Z",
     "start_time": "2019-11-14T09:50:02.085149Z"
    }
   },
   "outputs": [],
   "source": [
    "# %%time\n",
    "## Не дождался\n",
    "# X_train_num_mice = mice(X_train_raw[num_col_names])\n",
    "# X_test_num_mice = mice(X_test_raw[num_col_names])"
   ]
  },
  {
   "cell_type": "markdown",
   "metadata": {},
   "source": [
    "**DataWig**"
   ]
  },
  {
   "cell_type": "code",
   "execution_count": 25,
   "metadata": {
    "ExecuteTime": {
     "end_time": "2019-11-14T09:50:02.489000Z",
     "start_time": "2019-11-14T09:50:02.483915Z"
    }
   },
   "outputs": [],
   "source": [
    "# # Очень долго, обрабатывается по одному столбцу за итерацию\n",
    "# X_train_num_dw = None\n",
    "# X_test_num_dw = None"
   ]
  },
  {
   "cell_type": "markdown",
   "metadata": {},
   "source": [
    "**kNN (fast-Knn from impyute)**"
   ]
  },
  {
   "cell_type": "code",
   "execution_count": 26,
   "metadata": {
    "ExecuteTime": {
     "end_time": "2019-11-14T10:00:13.064164Z",
     "start_time": "2019-11-14T09:50:02.884339Z"
    }
   },
   "outputs": [
    {
     "name": "stderr",
     "output_type": "stream",
     "text": [
      "/home/grigoriy/.local/lib/python3.6/site-packages/impyute/util/preprocess.py:52: FutureWarning: Method .as_matrix will be removed in a future version. Use .values instead.\n",
      "  args[0] = args[0].as_matrix()\n"
     ]
    },
    {
     "name": "stdout",
     "output_type": "stream",
     "text": [
      "CPU times: user 10min 8s, sys: 776 ms, total: 10min 9s\n",
      "Wall time: 10min 10s\n"
     ]
    }
   ],
   "source": [
    "# %%time\n",
    "# #10 min\n",
    "# X_train_num_knn = fast_knn(X_train_raw[num_col_names], k = 5)\n",
    "# X_test_num_knn = fast_knn(X_test_raw[num_col_names], k = 5)\n",
    "\n",
    "# X_train_num_knn.to_csv('./Data/X_train_num_knn', index_label = False)\n",
    "# X_test_num_knn.to_csv('./Data/X_test_num_knn', index_label = False)"
   ]
  },
  {
   "cell_type": "code",
   "execution_count": 27,
   "metadata": {
    "ExecuteTime": {
     "end_time": "2019-11-14T10:00:13.235791Z",
     "start_time": "2019-11-14T10:00:13.065397Z"
    }
   },
   "outputs": [],
   "source": [
    "X_train_num_knn = pd.read_csv('./Data/X_train_num_knn')\n",
    "X_test_num_knn = pd.read_csv('./Data/X_test_num_knn')"
   ]
  },
  {
   "cell_type": "code",
   "execution_count": 28,
   "metadata": {
    "ExecuteTime": {
     "end_time": "2019-11-14T10:00:13.239667Z",
     "start_time": "2019-11-14T10:00:13.237107Z"
    }
   },
   "outputs": [
    {
     "name": "stdout",
     "output_type": "stream",
     "text": [
      "(32000, 42)\n",
      "(8000, 42)\n"
     ]
    }
   ],
   "source": [
    "print(X_train_num_knn.shape)\n",
    "print(X_test_num_knn.shape)"
   ]
  },
  {
   "cell_type": "code",
   "execution_count": 29,
   "metadata": {
    "ExecuteTime": {
     "end_time": "2019-11-14T10:00:13.315941Z",
     "start_time": "2019-11-14T10:00:13.240945Z"
    }
   },
   "outputs": [
    {
     "name": "stdout",
     "output_type": "stream",
     "text": [
      "0\n",
      "0\n"
     ]
    }
   ],
   "source": [
    "print(X_train_num_knn.isnull().sum().sum())\n",
    "print(X_test_num_knn.isnull().sum().sum())"
   ]
  },
  {
   "cell_type": "markdown",
   "metadata": {},
   "source": [
    "#### Категориальные данные"
   ]
  },
  {
   "cell_type": "markdown",
   "metadata": {},
   "source": [
    "**kNN**"
   ]
  },
  {
   "cell_type": "code",
   "execution_count": 30,
   "metadata": {
    "ExecuteTime": {
     "end_time": "2019-11-14T10:00:13.367430Z",
     "start_time": "2019-11-14T10:00:13.321145Z"
    }
   },
   "outputs": [],
   "source": [
    "# Article: https://towardsdatascience.com/the-use-of-knn-for-missing-values-cf33d935c637\n",
    "# Code implementation: https://gist.github.com/YohanObadia/b310793cd22a4427faaadd9c381a5850"
   ]
  },
  {
   "cell_type": "code",
   "execution_count": 31,
   "metadata": {
    "ExecuteTime": {
     "end_time": "2019-11-14T10:00:13.416066Z",
     "start_time": "2019-11-14T10:00:13.371962Z"
    }
   },
   "outputs": [],
   "source": [
    "# X_train_cat_knn = None \n",
    "# X_test_cat_knn = None "
   ]
  },
  {
   "cell_type": "markdown",
   "metadata": {},
   "source": [
    "**Categorical imputer**"
   ]
  },
  {
   "cell_type": "code",
   "execution_count": 32,
   "metadata": {
    "ExecuteTime": {
     "end_time": "2019-11-14T10:00:13.710850Z",
     "start_time": "2019-11-14T10:00:13.420773Z"
    }
   },
   "outputs": [],
   "source": [
    "imp = DataFrameImputer()\n",
    "X_train_cat_freq = imp.fit_transform(X_train_raw[cat_col_names]).reset_index(drop = True)\n",
    "X_test_cat_freq = imp.transform(X_test_raw[cat_col_names]).reset_index(drop = True)"
   ]
  },
  {
   "cell_type": "code",
   "execution_count": 33,
   "metadata": {
    "ExecuteTime": {
     "end_time": "2019-11-14T10:00:13.716630Z",
     "start_time": "2019-11-14T10:00:13.712616Z"
    }
   },
   "outputs": [
    {
     "name": "stdout",
     "output_type": "stream",
     "text": [
      "(32000, 38)\n",
      "(8000, 38)\n"
     ]
    }
   ],
   "source": [
    "print(X_train_cat_freq.shape)\n",
    "print(X_test_cat_freq.shape)"
   ]
  },
  {
   "cell_type": "code",
   "execution_count": 34,
   "metadata": {
    "ExecuteTime": {
     "end_time": "2019-11-14T10:00:13.841572Z",
     "start_time": "2019-11-14T10:00:13.718002Z"
    }
   },
   "outputs": [
    {
     "name": "stdout",
     "output_type": "stream",
     "text": [
      "0\n",
      "0\n"
     ]
    }
   ],
   "source": [
    "print(X_train_cat_freq.isnull().sum().sum())\n",
    "print(X_test_cat_freq.isnull().sum().sum())"
   ]
  },
  {
   "cell_type": "markdown",
   "metadata": {},
   "source": [
    "**Fillna + additional feature**"
   ]
  },
  {
   "cell_type": "code",
   "execution_count": 35,
   "metadata": {
    "ExecuteTime": {
     "end_time": "2019-11-14T10:00:13.902104Z",
     "start_time": "2019-11-14T10:00:13.842664Z"
    }
   },
   "outputs": [],
   "source": [
    "def fillna_imputer(df):\n",
    "    column_names = df.columns.to_list()\n",
    "    result = pd.DataFrame()\n",
    "    for name in column_names:\n",
    "#         print(name)\n",
    "        result[name] = df[name].fillna(value = 'Nan')\n",
    "        result[name + '_bool'] = df[name].isna()\n",
    "    return result.reset_index(drop = True)"
   ]
  },
  {
   "cell_type": "code",
   "execution_count": 36,
   "metadata": {
    "ExecuteTime": {
     "end_time": "2019-11-14T10:00:14.215727Z",
     "start_time": "2019-11-14T10:00:13.906974Z"
    }
   },
   "outputs": [],
   "source": [
    "X_train_cat_fillna = fillna_imputer(X_train_raw[cat_col_names])\n",
    "X_test_cat_fillna = fillna_imputer(X_test_raw[cat_col_names])"
   ]
  },
  {
   "cell_type": "code",
   "execution_count": 37,
   "metadata": {
    "ExecuteTime": {
     "end_time": "2019-11-14T10:00:14.219273Z",
     "start_time": "2019-11-14T10:00:14.216698Z"
    }
   },
   "outputs": [
    {
     "name": "stdout",
     "output_type": "stream",
     "text": [
      "(32000, 76)\n",
      "(8000, 76)\n"
     ]
    }
   ],
   "source": [
    "print(X_train_cat_fillna.shape)\n",
    "print(X_test_cat_fillna.shape)"
   ]
  },
  {
   "cell_type": "code",
   "execution_count": 38,
   "metadata": {
    "ExecuteTime": {
     "end_time": "2019-11-14T10:00:14.353898Z",
     "start_time": "2019-11-14T10:00:14.220519Z"
    }
   },
   "outputs": [
    {
     "name": "stdout",
     "output_type": "stream",
     "text": [
      "0\n",
      "0\n"
     ]
    }
   ],
   "source": [
    "print(X_train_cat_fillna.isnull().sum().sum())\n",
    "print(X_test_cat_fillna.isnull().sum().sum())"
   ]
  },
  {
   "cell_type": "markdown",
   "metadata": {},
   "source": [
    "#### Генерирование наборов данных с различными стратегиями заполнения. Кодирование"
   ]
  },
  {
   "cell_type": "code",
   "execution_count": 39,
   "metadata": {
    "ExecuteTime": {
     "end_time": "2019-11-14T10:00:14.390532Z",
     "start_time": "2019-11-14T10:00:14.355003Z"
    }
   },
   "outputs": [],
   "source": [
    "num_data_dict = {'mean': (X_train_num_mean, X_test_num_mean), \n",
    "                 'knn': (X_train_num_knn, X_test_num_knn)}\n",
    "cat_data_dict = {'freq': (X_train_cat_freq , X_test_cat_freq),\n",
    "                 'fillna': (X_train_cat_fillna, X_test_cat_fillna)}"
   ]
  },
  {
   "cell_type": "code",
   "execution_count": 40,
   "metadata": {
    "ExecuteTime": {
     "end_time": "2019-11-14T10:00:14.610362Z",
     "start_time": "2019-11-14T10:00:14.391445Z"
    }
   },
   "outputs": [
    {
     "name": "stdout",
     "output_type": "stream",
     "text": [
      "('mean', 'freq')\n",
      "('mean', 'fillna')\n",
      "('knn', 'freq')\n",
      "('knn', 'fillna')\n"
     ]
    }
   ],
   "source": [
    "#Cоберем в словарь типа key: (train, test) различные комбинации числовых/категориальных данных\n",
    "\n",
    "data_dict = {}\n",
    "\n",
    "for keys_combination in itertools.product( list(num_data_dict.keys()), list(cat_data_dict.keys())):\n",
    "    print(keys_combination)\n",
    "    data_dict[keys_combination[0] + '_' + keys_combination[1]] = (pd.concat([num_data_dict[keys_combination[0]][0],\n",
    "                                                                                cat_data_dict[keys_combination[1]][0]], axis = 1),\n",
    "                                                                      pd.concat([num_data_dict[keys_combination[0]][1],\n",
    "                                                                                cat_data_dict[keys_combination[1]][1]], axis = 1)\n",
    "                                                                     )                                                                    \n"
   ]
  },
  {
   "cell_type": "code",
   "execution_count": 41,
   "metadata": {
    "ExecuteTime": {
     "end_time": "2019-11-14T10:00:14.617142Z",
     "start_time": "2019-11-14T10:00:14.611392Z"
    }
   },
   "outputs": [
    {
     "data": {
      "text/plain": [
       "dict_keys(['mean_freq', 'mean_fillna', 'knn_freq', 'knn_fillna'])"
      ]
     },
     "execution_count": 41,
     "metadata": {},
     "output_type": "execute_result"
    }
   ],
   "source": [
    "data_dict.keys()"
   ]
  },
  {
   "cell_type": "code",
   "execution_count": 42,
   "metadata": {
    "ExecuteTime": {
     "end_time": "2019-11-14T10:00:14.677112Z",
     "start_time": "2019-11-14T10:00:14.618224Z"
    }
   },
   "outputs": [
    {
     "name": "stdout",
     "output_type": "stream",
     "text": [
      "(32000, 80)\n",
      "(8000, 80)\n"
     ]
    }
   ],
   "source": [
    "print(data_dict['mean_freq'][0].shape)\n",
    "print(data_dict['mean_freq'][1].shape)"
   ]
  },
  {
   "cell_type": "markdown",
   "metadata": {},
   "source": [
    "Использование разных моделей обучения подразумевает  различные варианты кодирования категориальных данных.<br> Для логистической регресси воспользуемся One-Hot encoding, для нелинейных моделей используем CatBoostEncoder. \n",
    "\n",
    "В дальнейшем, после определения оптимального входного датасета, подберем опитмальный способ кодирования категориальных признаков."
   ]
  },
  {
   "cell_type": "code",
   "execution_count": 43,
   "metadata": {
    "ExecuteTime": {
     "end_time": "2019-11-14T10:00:14.739387Z",
     "start_time": "2019-11-14T10:00:14.680722Z"
    }
   },
   "outputs": [],
   "source": [
    "data_encoders_dict = {}"
   ]
  },
  {
   "cell_type": "code",
   "execution_count": 44,
   "metadata": {
    "ExecuteTime": {
     "end_time": "2019-11-14T10:00:14.798552Z",
     "start_time": "2019-11-14T10:00:14.740794Z"
    }
   },
   "outputs": [],
   "source": [
    "# ohe_encoder = ce.OneHotEncoder(return_df=False) # Не влезает в память, напишем функцию вручную"
   ]
  },
  {
   "cell_type": "markdown",
   "metadata": {},
   "source": [
    "Подготовим набор данных для линейных моделей (One Hot Encoding)"
   ]
  },
  {
   "cell_type": "code",
   "execution_count": 45,
   "metadata": {
    "ExecuteTime": {
     "end_time": "2019-11-14T10:00:14.896971Z",
     "start_time": "2019-11-14T10:00:14.801237Z"
    }
   },
   "outputs": [
    {
     "name": "stdout",
     "output_type": "stream",
     "text": [
      "Типы данных в наборах: [dtype('float64') dtype('O')]\n"
     ]
    }
   ],
   "source": [
    "print('Типы данных в наборах:', data_dict['mean_freq'][0].dtypes.unique())"
   ]
  },
  {
   "cell_type": "code",
   "execution_count": 46,
   "metadata": {
    "ExecuteTime": {
     "end_time": "2019-11-14T10:00:14.956875Z",
     "start_time": "2019-11-14T10:00:14.898500Z"
    }
   },
   "outputs": [],
   "source": [
    "def make_csr_ohe(x_train, x_test, columns):\n",
    "    '''\n",
    "    Function provide OneHot encoding of selected columns from mixed (categorical and non-categorical) dataframe.\n",
    "    Return X_train, X_test in csr format and columns names.\n",
    "    '''\n",
    "    # Sanity index drop\n",
    "    x_train = x_train.reset_index(drop = True)\n",
    "    x_test = x_test.reset_index(drop = True)\n",
    "    \n",
    "    x_full = pd.concat([x_train, x_test], axis = 0)\n",
    "    \n",
    "    print('Nan values amount:', x_full.isnull().sum().sum())\n",
    "    \n",
    "    # Categorical data to coo matrix + make columns labels\n",
    "    x_str = x_full.select_dtypes(exclude = ['float64'])\n",
    "    x_str_ohe = pd.get_dummies(x_str, sparse = True, drop_first = True, columns = columns)\n",
    "    ohe_labels = x_str_ohe.columns.to_list()\n",
    "    x_str_ohe = x_str_ohe.sparse.to_coo()\n",
    "    \n",
    "    # Numerical data to coo matrix + make columns labels\n",
    "    x_num = coo_matrix(x_full.select_dtypes(include = ['float64']))\n",
    "    num_labels = x_full.select_dtypes(include = ['float64']).columns.to_list()\n",
    "    \n",
    "    column_names = num_labels + ohe_labels\n",
    "    \n",
    "    # Make final matrixm convert from coo to csr\n",
    "    x_full = csr_matrix(hstack([x_num, x_str_ohe]))\n",
    "    x_train = x_full[:x_train.shape[0] ,:]\n",
    "    x_test = x_full[x_train.shape[0]: ,:]\n",
    "\n",
    "    return (x_train, x_test, column_names)\n",
    "    \n",
    "    "
   ]
  },
  {
   "cell_type": "code",
   "execution_count": 47,
   "metadata": {
    "ExecuteTime": {
     "end_time": "2019-11-14T10:01:32.071124Z",
     "start_time": "2019-11-14T10:00:14.958280Z"
    }
   },
   "outputs": [
    {
     "name": "stdout",
     "output_type": "stream",
     "text": [
      "mean_freq\n",
      "Nan values amount: 0\n",
      "mean_fillna\n",
      "Nan values amount: 0\n",
      "knn_freq\n",
      "Nan values amount: 0\n",
      "knn_fillna\n",
      "Nan values amount: 0\n",
      "CPU times: user 1min 16s, sys: 589 ms, total: 1min 16s\n",
      "Wall time: 1min 17s\n"
     ]
    }
   ],
   "source": [
    "%%time\n",
    "data_ohe_dict = {}\n",
    "for key in data_dict.keys():\n",
    "    print(key)\n",
    "    X_train, X_test = data_dict[key]\n",
    "    ohe_columns = X_train.select_dtypes(exclude = ['float64']).columns.to_list()\n",
    "    data_ohe_dict[key] = make_csr_ohe(X_train, X_test, ohe_columns)"
   ]
  },
  {
   "cell_type": "code",
   "execution_count": 48,
   "metadata": {
    "ExecuteTime": {
     "end_time": "2019-11-14T10:01:32.078539Z",
     "start_time": "2019-11-14T10:01:32.076300Z"
    }
   },
   "outputs": [],
   "source": [
    "data_encoders_dict['ohe'] = data_ohe_dict"
   ]
  },
  {
   "cell_type": "markdown",
   "metadata": {
    "ExecuteTime": {
     "end_time": "2019-11-13T14:38:58.129275Z",
     "start_time": "2019-11-13T14:38:58.126712Z"
    }
   },
   "source": [
    "Подготовим набор для нелинейных моделей (CatBoost Encoding)"
   ]
  },
  {
   "cell_type": "code",
   "execution_count": 49,
   "metadata": {
    "ExecuteTime": {
     "end_time": "2019-11-14T10:01:49.216863Z",
     "start_time": "2019-11-14T10:01:32.082247Z"
    }
   },
   "outputs": [
    {
     "name": "stdout",
     "output_type": "stream",
     "text": [
      "mean_freq\n",
      "mean_fillna\n",
      "knn_freq\n",
      "knn_fillna\n",
      "CPU times: user 16.9 s, sys: 132 ms, total: 17 s\n",
      "Wall time: 17.1 s\n"
     ]
    }
   ],
   "source": [
    "%%time\n",
    "data_catboost_dict = {}\n",
    "for key in data_dict.keys():\n",
    "    print(key)\n",
    "    X_train, X_test = data_dict[key]\n",
    "    column_names = X_train.columns.to_list()\n",
    "    catboost_columns = X_train.select_dtypes(exclude = ['float64']).columns.to_list()\n",
    "    catboost_encoder = ce.CatBoostEncoder(cols = catboost_columns, random_state = SEED)\n",
    "    X_train = catboost_encoder.fit_transform(X_train, y_train)\n",
    "    X_test = catboost_encoder.transform(X_test)\n",
    "    data_catboost_dict[key] = (X_train, X_test, column_names)"
   ]
  },
  {
   "cell_type": "code",
   "execution_count": 50,
   "metadata": {
    "ExecuteTime": {
     "end_time": "2019-11-14T10:01:49.219962Z",
     "start_time": "2019-11-14T10:01:49.217955Z"
    }
   },
   "outputs": [],
   "source": [
    "data_encoders_dict['catboost'] = data_catboost_dict"
   ]
  },
  {
   "cell_type": "code",
   "execution_count": 51,
   "metadata": {
    "ExecuteTime": {
     "end_time": "2019-11-14T10:01:49.311696Z",
     "start_time": "2019-11-14T10:01:49.221137Z"
    }
   },
   "outputs": [],
   "source": [
    "# # Сохраним результаты в pkl файл\n",
    "# # https://stackoverflow.com/questions/7100125/storing-python-dictionaries\n",
    "\n",
    "# with open('./Data/data_dict.pkl', 'wb') as file:\n",
    "#     pickle.dump(data_encoders_dict, file, protocol = pickle.HIGHEST_PROTOCOL)\n",
    "    \n",
    "# with open('./Data/data_dict.pkl', 'rb') as file:\n",
    "#     data_encoders_dict = pickle.load(file)"
   ]
  },
  {
   "cell_type": "markdown",
   "metadata": {},
   "source": [
    "#### Выбор оптимального набора даных для различных моделей"
   ]
  },
  {
   "cell_type": "code",
   "execution_count": 75,
   "metadata": {
    "ExecuteTime": {
     "end_time": "2019-11-15T13:48:23.180925Z",
     "start_time": "2019-11-15T13:48:23.167888Z"
    },
    "code_folding": []
   },
   "outputs": [],
   "source": [
    "def train_model_cv_cl(X_train, y_train, X_test, params, \n",
    "                      encoder = None, \n",
    "                      model_type = 'sklearn', eval_metric = 'auc', \n",
    "                      sk_model = None, \n",
    "                      n_folds = 5,\n",
    "                      n_estimators = 1000,\n",
    "                      n_jobs = -1,\n",
    "                      verbose = 250,\n",
    "                      early_stopping_rounds = 200\n",
    "                     ):\n",
    "    if encoder is not None:\n",
    "        X_train = encoder.fit_transform(X_train, y_train)\n",
    "        X_test = encoder.transform(X_test)\n",
    "    \n",
    "    # set up scoring parameters for different models\n",
    "    metrics_dict = {'auc': {'lgb': 'auc',         \n",
    "                            'cat': 'AUC',\n",
    "                            'sklearn': metrics.roc_auc_score,\n",
    "                            'xgb': 'auc'}  \n",
    "                   }\n",
    "    cv_scores = []\n",
    "    result_dict = {}\n",
    "    pred_test = np.zeros(X_test.shape[0])\n",
    "    pred_train = np.zeros(X_train.shape[0]) #collect all validation predictions over all folds\n",
    "    \n",
    "    fold_method = StratifiedKFold(n_splits = n_folds, shuffle = True, random_state = SEED)\n",
    "    for fold_n, (dev_index, val_index) in enumerate(fold_method.split(X_train, y_train)):\n",
    "        try: #if data scr or numpy matrices\n",
    "            X_dev, X_val = X_train[dev_index], X_train[val_index]\n",
    "            y_dev, y_val = y_train[dev_index], y_train[val_index]\n",
    "            \n",
    "        except: #if x data is pandas dataframes\n",
    "            X_dev, X_val = X_train.iloc[dev_index], X_train.iloc[val_index]\n",
    "            y_dev, y_val = y_train[dev_index], y_train[val_index]\n",
    "              \n",
    "        if model_type == 'sklearn':\n",
    "            model = sk_model(**params)\n",
    "            model.fit(X_dev, y_dev)\n",
    "            pred_y_val = model.predict_proba(X_val)[:, 1]\n",
    "            pred_y_test = model.predict_proba(X_test)[:, 1]\n",
    "            \n",
    "            score = metrics_dict[eval_metric][model_type](y_val, pred_y_val)\n",
    "            print(f'Fold {fold_n}. {eval_metric}: {score:.6f}.')\n",
    "            #print('')\n",
    "            \n",
    "        if model_type == 'lgb':\n",
    "            model = lgb.LGBMClassifier(**params, n_estimators=n_estimators, n_jobs = n_jobs)\n",
    "            model.fit(X_dev, y_dev, eval_set = [(X_val, y_val)], \n",
    "                      eval_metric = metrics_dict[eval_metric][model_type],\n",
    "                      verbose=verbose, \n",
    "                      early_stopping_rounds=early_stopping_rounds)\n",
    "            pred_y_val = model.predict_proba(X_val)[:, 1]\n",
    "            pred_y_test = model.predict_proba(X_test, num_iteration=model.best_iteration_)[:, 1]\n",
    "            \n",
    "        if model_type == 'xgb':\n",
    "            dev_data = xgb.DMatrix(data = X_dev, label = y_dev)\n",
    "            valid_data = xgb.DMatrix(data = X_val, label = y_val)            \n",
    "            watchlist = [(dev_data, 'dev_data'), (valid_data, 'valid_data')]\n",
    "            \n",
    "            param = params #outside parameters\n",
    "            param['eval_metric'] = metrics_dict[eval_metric][model_type] #add parameter from metric_dict\n",
    "            \n",
    "            model = xgb.train(dtrain = dev_data, evals=watchlist,\n",
    "                              num_boost_round = n_estimators, \n",
    "                              early_stopping_rounds=early_stopping_rounds, \n",
    "                              verbose_eval=verbose, params=params)            \n",
    "            pred_y_val = model.predict(xgb.DMatrix(X_val), ntree_limit=model.best_ntree_limit)\n",
    "            pred_y_test = model.predict(xgb.DMatrix(X_test), ntree_limit=model.best_ntree_limit)\n",
    "            \n",
    "        if model_type == 'cat':\n",
    "            model = CatBoostClassifier(iterations=n_estimators, eval_metric=metrics_dict[eval_metric][model_type], **params,\n",
    "                                      loss_function='Logloss', od_wait = early_stopping_rounds)\n",
    "            model.fit(X_dev, y_dev, eval_set=(X_val, y_val), use_best_model=True, verbose=verbose)\n",
    "            pred_y_val = model.predict_proba(X_val)[:, 1]\n",
    "            pred_y_test = model.predict_proba(X_test)[:, 1]\n",
    "            \n",
    "        \n",
    "        pred_train[val_index] += pred_y_val\n",
    "        pred_test += pred_y_test\n",
    "        cv_scores.append(metrics_dict[eval_metric]['sklearn'](y_val, pred_y_val))\n",
    "        \n",
    "    pred_test /= n_folds\n",
    "    result_dict['predictions'] = pred_test\n",
    "    result_dict['overall_val_predictions'] = pred_y_val\n",
    "    result_dict['cv_scores'] = cv_scores\n",
    "    \n",
    "    print('CV mean score: {0:.6f}, std: {1:.6f}.'.format(np.mean(cv_scores), np.std(cv_scores)))\n",
    "    \n",
    "    return result_dict"
   ]
  },
  {
   "cell_type": "markdown",
   "metadata": {},
   "source": [
    "##### Линейные модели"
   ]
  },
  {
   "cell_type": "markdown",
   "metadata": {},
   "source": [
    "Линейные модели есть смысл запускать как на  ohe, так и на catboost комплектах данных"
   ]
  },
  {
   "cell_type": "markdown",
   "metadata": {
    "heading_collapsed": true
   },
   "source": [
    "###### LogisticRegression"
   ]
  },
  {
   "cell_type": "code",
   "execution_count": 401,
   "metadata": {
    "ExecuteTime": {
     "end_time": "2019-11-13T21:16:08.863390Z",
     "start_time": "2019-11-13T21:16:08.855025Z"
    },
    "hidden": true
   },
   "outputs": [],
   "source": [
    "logistic_model_dict = {}"
   ]
  },
  {
   "cell_type": "code",
   "execution_count": 413,
   "metadata": {
    "ExecuteTime": {
     "end_time": "2019-11-13T21:35:38.712605Z",
     "start_time": "2019-11-13T21:31:54.764581Z"
    },
    "code_folding": [],
    "hidden": true
   },
   "outputs": [
    {
     "name": "stdout",
     "output_type": "stream",
     "text": [
      "mean_freq\n",
      "Fold 0. auc: 0.572987.\n",
      "Fold 1. auc: 0.575455.\n",
      "Fold 2. auc: 0.555308.\n",
      "Fold 3. auc: 0.565902.\n",
      "Fold 4. auc: 0.561178.\n",
      "CV mean score: 0.566166, std: 0.007425.\n",
      "------------------------------------------\n",
      "mean_fillna\n",
      "Fold 0. auc: 0.569056.\n",
      "Fold 1. auc: 0.576553.\n",
      "Fold 2. auc: 0.555852.\n",
      "Fold 3. auc: 0.564231.\n",
      "Fold 4. auc: 0.561392.\n",
      "CV mean score: 0.565417, std: 0.007019.\n",
      "------------------------------------------\n",
      "knn_freq\n",
      "Fold 0. auc: 0.570664.\n",
      "Fold 1. auc: 0.569773.\n",
      "Fold 2. auc: 0.556045.\n",
      "Fold 3. auc: 0.563669.\n",
      "Fold 4. auc: 0.563349.\n",
      "CV mean score: 0.564700, std: 0.005275.\n",
      "------------------------------------------\n",
      "knn_fillna\n",
      "Fold 0. auc: 0.566847.\n",
      "Fold 1. auc: 0.577704.\n",
      "Fold 2. auc: 0.556560.\n",
      "Fold 3. auc: 0.564108.\n",
      "Fold 4. auc: 0.562707.\n",
      "CV mean score: 0.565585, std: 0.006934.\n",
      "------------------------------------------\n"
     ]
    }
   ],
   "source": [
    "for key in data_encoders_dict['ohe'].keys():\n",
    "    print(key)\n",
    "    X_train, X_test, column_names = data_encoders_dict['ohe'][key]\n",
    "    linear_model_dict['ohe_' + key] = train_model_cv_cl(X_train, y_train, X_test, \n",
    "                                                        model_type = 'sklearn', eval_metric = 'auc', \n",
    "                                                        sk_model = LogisticRegression,\n",
    "                                                        params = {'solver': 'lbfgs', \n",
    "                                                                  'max_iter': 1000, \n",
    "                                                                  'n_jobs': -1}) \n",
    "    print('------------------------------------------')"
   ]
  },
  {
   "cell_type": "code",
   "execution_count": 431,
   "metadata": {
    "ExecuteTime": {
     "end_time": "2019-11-13T21:52:49.054911Z",
     "start_time": "2019-11-13T21:50:04.139256Z"
    },
    "hidden": true
   },
   "outputs": [
    {
     "name": "stdout",
     "output_type": "stream",
     "text": [
      "mean_freq\n",
      "Fold 0. auc: 0.571325.\n",
      "Fold 1. auc: 0.576987.\n",
      "Fold 2. auc: 0.554452.\n",
      "Fold 3. auc: 0.568617.\n",
      "Fold 4. auc: 0.560658.\n",
      "CV mean score: 0.566408, std: 0.007962.\n",
      "------------------------------------------\n",
      "mean_fillna\n",
      "Fold 0. auc: 0.573205.\n",
      "Fold 1. auc: 0.574827.\n",
      "Fold 2. auc: 0.556447.\n",
      "Fold 3. auc: 0.565541.\n",
      "Fold 4. auc: 0.562336.\n",
      "CV mean score: 0.566471, std: 0.006835.\n",
      "------------------------------------------\n",
      "knn_freq\n",
      "Fold 0. auc: 0.567728.\n",
      "Fold 1. auc: 0.568266.\n",
      "Fold 2. auc: 0.555030.\n",
      "Fold 3. auc: 0.562598.\n",
      "Fold 4. auc: 0.561102.\n",
      "CV mean score: 0.562945, std: 0.004845.\n",
      "------------------------------------------\n",
      "knn_fillna\n",
      "Fold 0. auc: 0.571258.\n",
      "Fold 1. auc: 0.577834.\n",
      "Fold 2. auc: 0.555448.\n",
      "Fold 3. auc: 0.561860.\n",
      "Fold 4. auc: 0.563450.\n",
      "CV mean score: 0.565970, std: 0.007780.\n",
      "------------------------------------------\n"
     ]
    }
   ],
   "source": [
    "for key in data_encoders_dict['catboost'].keys():\n",
    "    print(key)\n",
    "    X_train, X_test, column_names = data_encoders_dict['catboost'][key]\n",
    "    linear_model_dict['catboost_' + key] = train_model_cv_cl(X_train, y_train, X_test, \n",
    "                                                        model_type = 'sklearn', eval_metric = 'auc', \n",
    "                                                        sk_model = LogisticRegression,\n",
    "                                                        params = {'solver': 'lbfgs', \n",
    "                                                                  'max_iter': 1000, \n",
    "                                                                  'n_jobs': -1}) \n",
    "    print('------------------------------------------')"
   ]
  },
  {
   "cell_type": "markdown",
   "metadata": {
    "hidden": true
   },
   "source": [
    "Для логистической регресии оптимальной оказалась стратегия CatBoost encoding + mean_fillna imputing"
   ]
  },
  {
   "cell_type": "markdown",
   "metadata": {
    "heading_collapsed": true
   },
   "source": [
    "###### SVM (SVC)"
   ]
  },
  {
   "cell_type": "markdown",
   "metadata": {
    "hidden": true
   },
   "source": [
    "SVM (SVC)"
   ]
  },
  {
   "cell_type": "code",
   "execution_count": 53,
   "metadata": {
    "ExecuteTime": {
     "end_time": "2019-11-14T10:01:49.443547Z",
     "start_time": "2019-11-14T10:01:49.373791Z"
    },
    "hidden": true
   },
   "outputs": [],
   "source": [
    "LinearSVC_model_dict = {}"
   ]
  },
  {
   "cell_type": "code",
   "execution_count": 55,
   "metadata": {
    "ExecuteTime": {
     "end_time": "2019-11-14T10:04:32.577892Z",
     "start_time": "2019-11-14T10:04:32.575691Z"
    },
    "hidden": true
   },
   "outputs": [],
   "source": [
    "#Linear SVC doesn`t support 'predict_proba'\n",
    "\n",
    "# for key in data_encoders_dict['ohe'].keys():\n",
    "#     print(key)\n",
    "#     X_train, X_test, column_names = data_encoders_dict['ohe'][key]\n",
    "#     SVM_model_dict['ohe_' + key] = train_model_cv_cl(X_train, y_train, X_test, \n",
    "#                                                         model_type = 'sklearn', eval_metric = 'auc', \n",
    "#                                                         sk_model = LinearSVC,\n",
    "#                                                         params = {'random_state': SEED,                          \n",
    "#                                                                   'class_weight': 'balanced'}) \n",
    "#     print('------------------------------------------')"
   ]
  },
  {
   "cell_type": "markdown",
   "metadata": {},
   "source": [
    "##### Нелинейные модели"
   ]
  },
  {
   "cell_type": "markdown",
   "metadata": {
    "heading_collapsed": true
   },
   "source": [
    "###### Random Forest Classifier"
   ]
  },
  {
   "cell_type": "code",
   "execution_count": 61,
   "metadata": {
    "ExecuteTime": {
     "end_time": "2019-11-15T13:29:33.643039Z",
     "start_time": "2019-11-15T13:29:33.641119Z"
    },
    "hidden": true
   },
   "outputs": [],
   "source": [
    "random_forest_dict = {}"
   ]
  },
  {
   "cell_type": "code",
   "execution_count": 62,
   "metadata": {
    "ExecuteTime": {
     "end_time": "2019-11-15T13:33:01.875306Z",
     "start_time": "2019-11-15T13:29:34.513180Z"
    },
    "hidden": true
   },
   "outputs": [
    {
     "name": "stdout",
     "output_type": "stream",
     "text": [
      "mean_freq\n",
      "Fold 0. auc: 0.706151.\n",
      "Fold 1. auc: 0.691666.\n",
      "Fold 2. auc: 0.712462.\n",
      "Fold 3. auc: 0.682030.\n",
      "Fold 4. auc: 0.670996.\n",
      "CV mean score: 0.692661, std: 0.015215.\n",
      "------------------------------------------\n",
      "mean_fillna\n",
      "Fold 0. auc: 0.705970.\n",
      "Fold 1. auc: 0.692666.\n",
      "Fold 2. auc: 0.710045.\n",
      "Fold 3. auc: 0.701861.\n",
      "Fold 4. auc: 0.689302.\n",
      "CV mean score: 0.699969, std: 0.007852.\n",
      "------------------------------------------\n",
      "knn_freq\n",
      "Fold 0. auc: 0.687546.\n",
      "Fold 1. auc: 0.685533.\n",
      "Fold 2. auc: 0.694057.\n",
      "Fold 3. auc: 0.675955.\n",
      "Fold 4. auc: 0.678551.\n",
      "CV mean score: 0.684328, std: 0.006480.\n",
      "------------------------------------------\n",
      "knn_fillna\n",
      "Fold 0. auc: 0.691187.\n",
      "Fold 1. auc: 0.700344.\n",
      "Fold 2. auc: 0.706647.\n",
      "Fold 3. auc: 0.695220.\n",
      "Fold 4. auc: 0.676725.\n",
      "CV mean score: 0.694025, std: 0.010080.\n",
      "------------------------------------------\n"
     ]
    }
   ],
   "source": [
    "for key in data_encoders_dict['catboost'].keys():\n",
    "    print(key)\n",
    "    X_train, X_test, column_names = data_encoders_dict['catboost'][key]\n",
    "    random_forest_dict['catboost_' + key] = train_model_cv_cl(X_train, y_train, X_test, \n",
    "                                                        model_type = 'sklearn', eval_metric = 'auc', \n",
    "                                                        sk_model = RandomForestClassifier,\n",
    "                                                        params = {'n_estimators': 250, \n",
    "                                                                  'class_weight': 'balanced', \n",
    "                                                                  'n_jobs': -1}) \n",
    "    print('------------------------------------------')"
   ]
  },
  {
   "cell_type": "markdown",
   "metadata": {
    "ExecuteTime": {
     "end_time": "2019-11-15T13:34:08.127653Z",
     "start_time": "2019-11-15T13:34:08.125004Z"
    }
   },
   "source": [
    "###### CatBoost Classifier"
   ]
  },
  {
   "cell_type": "code",
   "execution_count": 65,
   "metadata": {
    "ExecuteTime": {
     "end_time": "2019-11-15T13:36:11.403235Z",
     "start_time": "2019-11-15T13:36:11.393187Z"
    }
   },
   "outputs": [],
   "source": [
    "catboost_dict = {}"
   ]
  },
  {
   "cell_type": "code",
   "execution_count": 76,
   "metadata": {
    "ExecuteTime": {
     "end_time": "2019-11-15T13:49:49.833464Z",
     "start_time": "2019-11-15T13:48:26.791032Z"
    }
   },
   "outputs": [
    {
     "name": "stdout",
     "output_type": "stream",
     "text": [
      "mean_freq\n",
      "Learning rate set to 0.109677\n",
      "0:\ttest: 0.5441244\tbest: 0.5441244 (0)\ttotal: 12.5ms\tremaining: 12.5s\n",
      "250:\ttest: 0.7315613\tbest: 0.7439121 (115)\ttotal: 2.24s\tremaining: 6.7s\n",
      "Stopped by overfitting detector  (200 iterations wait)\n",
      "\n",
      "bestTest = 0.7439120544\n",
      "bestIteration = 115\n",
      "\n",
      "Shrink model to first 116 iterations.\n",
      "Learning rate set to 0.109677\n",
      "0:\ttest: 0.5392342\tbest: 0.5392342 (0)\ttotal: 8.76ms\tremaining: 8.75s\n",
      "250:\ttest: 0.7399689\tbest: 0.7450266 (123)\ttotal: 2.26s\tremaining: 6.74s\n",
      "Stopped by overfitting detector  (200 iterations wait)\n",
      "\n",
      "bestTest = 0.74502664\n",
      "bestIteration = 123\n",
      "\n",
      "Shrink model to first 124 iterations.\n",
      "Learning rate set to 0.109677\n",
      "0:\ttest: 0.5312167\tbest: 0.5312167 (0)\ttotal: 10.2ms\tremaining: 10.2s\n",
      "250:\ttest: 0.7305633\tbest: 0.7352774 (74)\ttotal: 2.28s\tremaining: 6.8s\n",
      "Stopped by overfitting detector  (200 iterations wait)\n",
      "\n",
      "bestTest = 0.7352774499\n",
      "bestIteration = 74\n",
      "\n",
      "Shrink model to first 75 iterations.\n",
      "Learning rate set to 0.109677\n",
      "0:\ttest: 0.5397583\tbest: 0.5397583 (0)\ttotal: 8.82ms\tremaining: 8.81s\n",
      "250:\ttest: 0.7233508\tbest: 0.7285455 (152)\ttotal: 2.27s\tremaining: 6.79s\n",
      "Stopped by overfitting detector  (200 iterations wait)\n",
      "\n",
      "bestTest = 0.7285454695\n",
      "bestIteration = 152\n",
      "\n",
      "Shrink model to first 153 iterations.\n",
      "Learning rate set to 0.109678\n",
      "0:\ttest: 0.5110197\tbest: 0.5110197 (0)\ttotal: 15.9ms\tremaining: 15.9s\n",
      "250:\ttest: 0.7076860\tbest: 0.7200002 (60)\ttotal: 2.4s\tremaining: 7.17s\n",
      "Stopped by overfitting detector  (200 iterations wait)\n",
      "\n",
      "bestTest = 0.7200001561\n",
      "bestIteration = 60\n",
      "\n",
      "Shrink model to first 61 iterations.\n",
      "CV mean score: 0.734552, std: 0.009441.\n",
      "------------------------------------------\n",
      "mean_fillna\n",
      "Learning rate set to 0.109677\n",
      "0:\ttest: 0.5338480\tbest: 0.5338480 (0)\ttotal: 51.7ms\tremaining: 51.7s\n",
      "250:\ttest: 0.7423953\tbest: 0.7456734 (112)\ttotal: 3.17s\tremaining: 9.45s\n",
      "Stopped by overfitting detector  (200 iterations wait)\n",
      "\n",
      "bestTest = 0.745673358\n",
      "bestIteration = 112\n",
      "\n",
      "Shrink model to first 113 iterations.\n",
      "Learning rate set to 0.109677\n",
      "0:\ttest: 0.5385987\tbest: 0.5385987 (0)\ttotal: 11.6ms\tremaining: 11.6s\n",
      "250:\ttest: 0.7334103\tbest: 0.7375326 (176)\ttotal: 3.23s\tremaining: 9.63s\n",
      "Stopped by overfitting detector  (200 iterations wait)\n",
      "\n",
      "bestTest = 0.7375325552\n",
      "bestIteration = 176\n",
      "\n",
      "Shrink model to first 177 iterations.\n",
      "Learning rate set to 0.109677\n",
      "0:\ttest: 0.5507354\tbest: 0.5507354 (0)\ttotal: 12.1ms\tremaining: 12.1s\n",
      "250:\ttest: 0.7347600\tbest: 0.7418715 (121)\ttotal: 3.42s\tremaining: 10.2s\n",
      "Stopped by overfitting detector  (200 iterations wait)\n",
      "\n",
      "bestTest = 0.7418714785\n",
      "bestIteration = 121\n",
      "\n",
      "Shrink model to first 122 iterations.\n",
      "Learning rate set to 0.109677\n",
      "0:\ttest: 0.5255770\tbest: 0.5255770 (0)\ttotal: 55.2ms\tremaining: 55.1s\n",
      "250:\ttest: 0.7269844\tbest: 0.7354732 (121)\ttotal: 3.17s\tremaining: 9.46s\n",
      "Stopped by overfitting detector  (200 iterations wait)\n",
      "\n",
      "bestTest = 0.7354732068\n",
      "bestIteration = 121\n",
      "\n",
      "Shrink model to first 122 iterations.\n",
      "Learning rate set to 0.109678\n",
      "0:\ttest: 0.5270355\tbest: 0.5270355 (0)\ttotal: 11.3ms\tremaining: 11.3s\n",
      "250:\ttest: 0.7207493\tbest: 0.7266010 (107)\ttotal: 3.18s\tremaining: 9.48s\n",
      "Stopped by overfitting detector  (200 iterations wait)\n",
      "\n",
      "bestTest = 0.726600973\n",
      "bestIteration = 107\n",
      "\n",
      "Shrink model to first 108 iterations.\n",
      "CV mean score: 0.737430, std: 0.006462.\n",
      "------------------------------------------\n",
      "knn_freq\n",
      "Learning rate set to 0.109677\n",
      "0:\ttest: 0.5748262\tbest: 0.5748262 (0)\ttotal: 44.3ms\tremaining: 44.3s\n",
      "250:\ttest: 0.7181107\tbest: 0.7220230 (174)\ttotal: 2.38s\tremaining: 7.1s\n",
      "Stopped by overfitting detector  (200 iterations wait)\n",
      "\n",
      "bestTest = 0.7220229829\n",
      "bestIteration = 174\n",
      "\n",
      "Shrink model to first 175 iterations.\n",
      "Learning rate set to 0.109677\n",
      "0:\ttest: 0.5425136\tbest: 0.5425136 (0)\ttotal: 9.19ms\tremaining: 9.18s\n",
      "250:\ttest: 0.7302853\tbest: 0.7386794 (135)\ttotal: 2.29s\tremaining: 6.83s\n",
      "Stopped by overfitting detector  (200 iterations wait)\n",
      "\n",
      "bestTest = 0.7386794353\n",
      "bestIteration = 135\n",
      "\n",
      "Shrink model to first 136 iterations.\n",
      "Learning rate set to 0.109677\n",
      "0:\ttest: 0.5310968\tbest: 0.5310968 (0)\ttotal: 9.45ms\tremaining: 9.44s\n",
      "250:\ttest: 0.7204840\tbest: 0.7249768 (126)\ttotal: 2.36s\tremaining: 7.04s\n",
      "Stopped by overfitting detector  (200 iterations wait)\n",
      "\n",
      "bestTest = 0.7249768071\n",
      "bestIteration = 126\n",
      "\n",
      "Shrink model to first 127 iterations.\n",
      "Learning rate set to 0.109677\n",
      "0:\ttest: 0.5429504\tbest: 0.5429504 (0)\ttotal: 9.57ms\tremaining: 9.56s\n",
      "250:\ttest: 0.7209028\tbest: 0.7232508 (217)\ttotal: 2.29s\tremaining: 6.85s\n",
      "Stopped by overfitting detector  (200 iterations wait)\n",
      "\n",
      "bestTest = 0.7232508128\n",
      "bestIteration = 217\n",
      "\n",
      "Shrink model to first 218 iterations.\n",
      "Learning rate set to 0.109678\n",
      "0:\ttest: 0.5732361\tbest: 0.5732361 (0)\ttotal: 9.2ms\tremaining: 9.2s\n",
      "250:\ttest: 0.7037666\tbest: 0.7058518 (180)\ttotal: 2.29s\tremaining: 6.82s\n",
      "Stopped by overfitting detector  (200 iterations wait)\n",
      "\n",
      "bestTest = 0.7058518494\n",
      "bestIteration = 180\n",
      "\n",
      "Shrink model to first 181 iterations.\n",
      "CV mean score: 0.722956, std: 0.010439.\n",
      "------------------------------------------\n",
      "knn_fillna\n",
      "Learning rate set to 0.109677\n",
      "0:\ttest: 0.5338480\tbest: 0.5338480 (0)\ttotal: 11.7ms\tremaining: 11.7s\n",
      "250:\ttest: 0.7283236\tbest: 0.7331439 (149)\ttotal: 2.97s\tremaining: 8.88s\n",
      "Stopped by overfitting detector  (200 iterations wait)\n",
      "\n",
      "bestTest = 0.7331439322\n",
      "bestIteration = 149\n",
      "\n",
      "Shrink model to first 150 iterations.\n",
      "Learning rate set to 0.109677\n",
      "0:\ttest: 0.5682277\tbest: 0.5682277 (0)\ttotal: 12.1ms\tremaining: 12.1s\n",
      "250:\ttest: 0.7332560\tbest: 0.7393727 (131)\ttotal: 2.94s\tremaining: 8.76s\n",
      "Stopped by overfitting detector  (200 iterations wait)\n",
      "\n",
      "bestTest = 0.739372741\n",
      "bestIteration = 131\n",
      "\n",
      "Shrink model to first 132 iterations.\n",
      "Learning rate set to 0.109677\n",
      "0:\ttest: 0.5759932\tbest: 0.5759932 (0)\ttotal: 12.2ms\tremaining: 12.2s\n",
      "250:\ttest: 0.7340536\tbest: 0.7374744 (161)\ttotal: 2.94s\tremaining: 8.79s\n",
      "Stopped by overfitting detector  (200 iterations wait)\n",
      "\n",
      "bestTest = 0.7374743956\n",
      "bestIteration = 161\n",
      "\n",
      "Shrink model to first 162 iterations.\n",
      "Learning rate set to 0.109677\n",
      "0:\ttest: 0.5683105\tbest: 0.5683105 (0)\ttotal: 12.1ms\tremaining: 12.1s\n",
      "250:\ttest: 0.7152659\tbest: 0.7187282 (169)\ttotal: 3.02s\tremaining: 9s\n",
      "Stopped by overfitting detector  (200 iterations wait)\n",
      "\n",
      "bestTest = 0.7187281901\n",
      "bestIteration = 169\n",
      "\n",
      "Shrink model to first 170 iterations.\n",
      "Learning rate set to 0.109678\n",
      "0:\ttest: 0.5028427\tbest: 0.5028427 (0)\ttotal: 11.6ms\tremaining: 11.6s\n",
      "250:\ttest: 0.6995341\tbest: 0.7108402 (135)\ttotal: 2.96s\tremaining: 8.85s\n",
      "Stopped by overfitting detector  (200 iterations wait)\n",
      "\n",
      "bestTest = 0.7108402368\n",
      "bestIteration = 135\n",
      "\n",
      "Shrink model to first 136 iterations.\n",
      "CV mean score: 0.727912, std: 0.011189.\n",
      "------------------------------------------\n"
     ]
    }
   ],
   "source": [
    "for key in data_encoders_dict['catboost'].keys():\n",
    "    print(key)\n",
    "    X_train, X_test, column_names = data_encoders_dict['catboost'][key]\n",
    "    catboost_dict['catboost_' + key] = train_model_cv_cl(X_train, y_train.astype('int'), X_test, \n",
    "                                                        model_type = 'cat', eval_metric = 'auc', \n",
    "                                                        params = {}) \n",
    "    print('------------------------------------------')"
   ]
  },
  {
   "cell_type": "markdown",
   "metadata": {},
   "source": [
    "Лучше всего показал себя градиентный бустинг с применением mean_fillna кодирования."
   ]
  },
  {
   "cell_type": "code",
   "execution_count": null,
   "metadata": {},
   "outputs": [],
   "source": []
  }
 ],
 "metadata": {
  "kernelspec": {
   "display_name": "Python 3",
   "language": "python",
   "name": "python3"
  },
  "language_info": {
   "codemirror_mode": {
    "name": "ipython",
    "version": 3
   },
   "file_extension": ".py",
   "mimetype": "text/x-python",
   "name": "python",
   "nbconvert_exporter": "python",
   "pygments_lexer": "ipython3",
   "version": "3.6.9"
  }
 },
 "nbformat": 4,
 "nbformat_minor": 1
}

